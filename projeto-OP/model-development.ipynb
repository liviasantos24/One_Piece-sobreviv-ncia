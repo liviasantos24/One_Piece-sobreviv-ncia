{
 "cells": [
  {
   "cell_type": "markdown",
   "id": "d587ba5d",
   "metadata": {},
   "source": [
    "## Tratamento dos Dados: One Piece\n",
    "\n",
    "- API Utilizada: https://api-onepiece.com/en/documentation\n",
    "- Objetivo: Realizar um tratamento de dados com a finalidade de treinar um algoritmo de Machine Learning"
   ]
  },
  {
   "cell_type": "markdown",
   "id": "a36800b2",
   "metadata": {},
   "source": [
    "### 1. Importação das Bibliotecas"
   ]
  },
  {
   "cell_type": "code",
   "execution_count": null,
   "id": "b9a8312e",
   "metadata": {},
   "outputs": [],
   "source": [
    "import pandas as pd\n",
    "import numpy as np\n",
    "import requests"
   ]
  },
  {
   "cell_type": "markdown",
   "id": "4e72cad4",
   "metadata": {},
   "source": [
    "### 2. Importando base de dados por uma API"
   ]
  },
  {
   "cell_type": "code",
   "execution_count": null,
   "id": "6e177b43",
   "metadata": {},
   "outputs": [],
   "source": [
    "response = requests.get(\"https://api.api-onepiece.com/v2/characters/en?name=Monkey%20D%20Luffy\")\n",
    "\n",
    "if response.status_code == 200:\n",
    "    data = response.json()\n",
    "    df = pd.json_normalize(data) \n",
    "else:\n",
    "    print(\"Erro:\", response.status_code, response.text)\n"
   ]
  },
  {
   "cell_type": "markdown",
   "id": "d5c1f0d3",
   "metadata": {},
   "source": [
    "### 3. Análise de Dados"
   ]
  },
  {
   "cell_type": "code",
   "execution_count": 226,
   "id": "6ba627ad",
   "metadata": {},
   "outputs": [
    {
     "name": "stdout",
     "output_type": "stream",
     "text": [
      "<class 'pandas.core.frame.DataFrame'>\n",
      "RangeIndex: 773 entries, 0 to 772\n",
      "Data columns (total 22 columns):\n",
      " #   Column               Non-Null Count  Dtype  \n",
      "---  ------               --------------  -----  \n",
      " 0   id                   773 non-null    int64  \n",
      " 1   name                 773 non-null    object \n",
      " 2   size                 761 non-null    object \n",
      " 3   age                  761 non-null    object \n",
      " 4   bounty               756 non-null    object \n",
      " 5   job                  772 non-null    object \n",
      " 6   status               772 non-null    object \n",
      " 7   crew.id              738 non-null    float64\n",
      " 8   crew.name            738 non-null    object \n",
      " 9   crew.description     0 non-null      float64\n",
      " 10  crew.status          738 non-null    object \n",
      " 11  crew.number          393 non-null    object \n",
      " 12  crew.roman_name      449 non-null    object \n",
      " 13  crew.total_prime     393 non-null    object \n",
      " 14  crew.is_yonko        738 non-null    object \n",
      " 15  fruit.id             178 non-null    float64\n",
      " 16  fruit.name           178 non-null    object \n",
      " 17  fruit.description    178 non-null    object \n",
      " 18  fruit.type           178 non-null    object \n",
      " 19  fruit.filename       178 non-null    object \n",
      " 20  fruit.roman_name     151 non-null    object \n",
      " 21  fruit.technicalFile  178 non-null    object \n",
      "dtypes: float64(3), int64(1), object(18)\n",
      "memory usage: 133.0+ KB\n"
     ]
    }
   ],
   "source": [
    "df.info()"
   ]
  },
  {
   "cell_type": "markdown",
   "id": "4b7d68c1",
   "metadata": {},
   "source": [
    "### 4. Tratamento de Dados"
   ]
  },
  {
   "cell_type": "markdown",
   "id": "ea58db94",
   "metadata": {},
   "source": [
    "#### 4.1 Removendo colunas desnecessárias"
   ]
  },
  {
   "cell_type": "code",
   "execution_count": 227,
   "id": "bf156e77",
   "metadata": {},
   "outputs": [],
   "source": [
    "df = df.drop(columns=['id','status','crew.id', 'crew.name', 'crew.description', 'crew.status', 'crew.number', 'crew.total_prime', 'crew.is_yonko', 'fruit.id', 'fruit.name', 'fruit.description', 'fruit.filename', 'fruit.technicalFile'])"
   ]
  },
  {
   "cell_type": "markdown",
   "id": "6cc76562",
   "metadata": {},
   "source": [
    "#### 4.2 Padronizando os valores vazios:"
   ]
  },
  {
   "cell_type": "code",
   "execution_count": null,
   "id": "58099a2f",
   "metadata": {},
   "outputs": [],
   "source": [
    "df[\"fruit.type\"] = df[\"fruit.type\"].fillna(\"Don't have\")\n",
    "df[\"fruit.roman_name\"] = df[\"fruit.roman_name\"].fillna(\"Don't have\")\n",
    "df[\"crew.roman_name\"] = df[\"crew.roman_name\"].fillna(\"Don't have\")"
   ]
  },
  {
   "cell_type": "markdown",
   "id": "6eeb911e",
   "metadata": {},
   "source": [
    "#### 4.3 Convertendo o valor da recompensa para um tipo numérico:"
   ]
  },
  {
   "cell_type": "code",
   "execution_count": null,
   "id": "c24b4e13",
   "metadata": {},
   "outputs": [],
   "source": [
    "df['bounty'] = df['bounty'].str.replace('.', '', regex=False)\n",
    "df['bounty'] = pd.to_numeric(df['bounty'], errors='coerce')\n",
    "df['bounty'] = df['bounty'].fillna(0)"
   ]
  },
  {
   "cell_type": "markdown",
   "id": "0e24ab12",
   "metadata": {},
   "source": [
    "#### 4.4 Convertendo o tamanho dos personagem para um tipo numérico:"
   ]
  },
  {
   "cell_type": "code",
   "execution_count": null,
   "id": "43379744",
   "metadata": {},
   "outputs": [],
   "source": [
    "df['size'].replace('', np.nan, inplace=True)\n",
    "df = df.dropna(subset=['age'])\n",
    "df['size'] = df['size'].str.replace('cm', '', regex=False)\n",
    "df['size'] = df['size'].str.replace(' ', '', regex=False)\n",
    "df['size'] = pd.to_numeric(df['size'], errors='coerce')"
   ]
  },
  {
   "cell_type": "markdown",
   "id": "e94b2c1e",
   "metadata": {},
   "source": [
    "#### 4.5 Convertendo a idade dos personagens para um tipo numérico:"
   ]
  },
  {
   "cell_type": "code",
   "execution_count": null,
   "id": "04a93f49",
   "metadata": {},
   "outputs": [],
   "source": [
    "df['age'].replace('', np.nan, inplace=True)\n",
    "df = df.dropna(subset=['size'])\n",
    "df['age'] = df['age'].str.replace('ans', '', regex=False)\n",
    "df['age'] = df['age'].str.replace(' ', '', regex=False)\n",
    "df['age'] = pd.to_numeric(df['age'], errors='coerce')"
   ]
  },
  {
   "cell_type": "markdown",
   "id": "3b68e448",
   "metadata": {},
   "source": [
    "### 4.6 Removendo Outliers"
   ]
  },
  {
   "cell_type": "code",
   "execution_count": null,
   "id": "5a03c5cf",
   "metadata": {},
   "outputs": [],
   "source": [
    "df = df.drop([760, 602, 255])"
   ]
  },
  {
   "cell_type": "code",
   "execution_count": 247,
   "id": "f63930af",
   "metadata": {},
   "outputs": [
    {
     "data": {
      "application/vnd.microsoft.datawrangler.viewer.v0+json": {
       "columns": [
        {
         "name": "index",
         "rawType": "int64",
         "type": "integer"
        },
        {
         "name": "name",
         "rawType": "object",
         "type": "string"
        },
        {
         "name": "size",
         "rawType": "float64",
         "type": "float"
        },
        {
         "name": "age",
         "rawType": "int64",
         "type": "integer"
        },
        {
         "name": "bounty",
         "rawType": "float64",
         "type": "float"
        },
        {
         "name": "job",
         "rawType": "object",
         "type": "string"
        },
        {
         "name": "crew.roman_name",
         "rawType": "object",
         "type": "string"
        },
        {
         "name": "fruit.type",
         "rawType": "object",
         "type": "string"
        },
        {
         "name": "fruit.roman_name",
         "rawType": "object",
         "type": "string"
        }
       ],
       "ref": "c6a4a65e-5e67-48fc-a9c7-c96d15bc8f79",
       "rows": [
        [
         "0",
         "Monkey D Luffy",
         "174.0",
         "19",
         "3000000000.0",
         "Captain",
         "Mugiwara no Ichimi",
         "Paramecia",
         "Gomu Gomu no Mi"
        ],
        [
         "1",
         "Roronoa Zoro",
         "181.0",
         "21",
         "320000000.0",
         "Right-hand man",
         "Mugiwara no Ichimi",
         "Don't have",
         "Don't have"
        ],
        [
         "2",
         "Nami",
         "170.0",
         "20",
         "66000000.0",
         "Navigator",
         "Mugiwara no Ichimi",
         "Don't have",
         "Don't have"
        ],
        [
         "3",
         "Usopp",
         "176.0",
         "19",
         "200000000.0",
         "Sniper",
         "Mugiwara no Ichimi",
         "Don't have",
         "Don't have"
        ],
        [
         "4",
         "Sanji",
         "180.0",
         "21",
         "330000000.0",
         "Cook",
         "Mugiwara no Ichimi",
         "Don't have",
         "Don't have"
        ],
        [
         "5",
         "Tony-Tony Chopper",
         "90.0",
         "17",
         "100.0",
         "Doctor",
         "Mugiwara no Ichimi",
         "Zoan",
         "Hito Hito no Mi"
        ],
        [
         "6",
         "Nico Robin",
         "188.0",
         "30",
         "130000000.0",
         "Archaeologist",
         "Mugiwara no Ichimi",
         "Paramecia",
         "Hana Hana no Mi"
        ],
        [
         "7",
         "Franky",
         "240.0",
         "36",
         "94000000.0",
         "Carpenter",
         "Mugiwara no Ichimi",
         "Don't have",
         "Don't have"
        ],
        [
         "8",
         "Brook",
         "277.0",
         "90",
         "83000000.0",
         "Musician",
         "Mugiwara no Ichimi",
         "Paramecia",
         "Yomi Yomi no Mi"
        ],
        [
         "9",
         "Jinbe",
         "301.0",
         "46",
         "438000000.0",
         "Helmsman",
         "Mugiwara no Ichimi",
         "Don't have",
         "Don't have"
        ],
        [
         "11",
         "Cavendish",
         "208.0",
         "26",
         "330000000.0",
         "Captain",
         "Mugiwara Dai-sendan",
         "Don't have",
         "Don't have"
        ],
        [
         "12",
         "Suleiman",
         "240.0",
         "40",
         "670000000.0",
         "Fighter",
         "Mugiwara Dai-sendan",
         "Don't have",
         "Don't have"
        ],
        [
         "13",
         "Bartolomeo",
         "220.0",
         "24",
         "200000000.0",
         "Captain",
         "Mugiwara Dai-sendan",
         "Paramecia",
         "Bari Bari no Mi"
        ],
        [
         "15",
         "Sai",
         "242.0",
         "28",
         "210000000.0",
         "13th Chief Commander",
         "Mugiwara Dai-sendan",
         "Don't have",
         "Don't have"
        ],
        [
         "17",
         "Baby 5",
         "181.0",
         "24",
         "0.0",
         "",
         "Mugiwara Dai-sendan",
         "Paramecia",
         "Buki Buki no Mi"
        ],
        [
         "18",
         "Ideo",
         "225.0",
         "22",
         "0.0",
         "Captain",
         "Mugiwara Dai-sendan",
         "Don't have",
         "Don't have"
        ],
        [
         "19",
         "Blue Gilly",
         "314.0",
         "24",
         "0.0",
         "",
         "Mugiwara Dai-sendan",
         "Don't have",
         "Don't have"
        ],
        [
         "22",
         "Léo",
         "23.0",
         "25",
         "0.0",
         "Captain",
         "Mugiwara Dai-sendan",
         "Paramecia",
         "Nui Nui no Mi"
        ],
        [
         "25",
         "Hajrudin",
         "2200.0",
         "81",
         "0.0",
         "Captain",
         "Mugiwara Dai-sendan",
         "Don't have",
         "Don't have"
        ],
        [
         "30",
         "Orlumbus",
         "480.0",
         "42",
         "148000000.0",
         "Admiral",
         "Mugiwara Dai-sendan",
         "Don't have",
         "Don't have"
        ],
        [
         "31",
         "Baggy / Le Clown",
         "192.0",
         "39",
         "150000000.0",
         "Chairman",
         "Bagīzu Deribarī",
         "Paramecia",
         "Bara Bara no Mi"
        ],
        [
         "32",
         "Alvida",
         "198.0",
         "27",
         "5000000.0",
         "",
         "Bagīzu Deribarī",
         "Paramecia",
         "Sube Sube no Mi"
        ],
        [
         "33",
         "Galdino",
         "179.0",
         "37",
         "24000000.0",
         "",
         "Bagīzu Deribarī",
         "Paramecia",
         "Doru Doru no Mi"
        ],
        [
         "34",
         "Morge",
         "197.0",
         "29",
         "0.0",
         "",
         "Bagīzu Deribarī",
         "Don't have",
         "Don't have"
        ],
        [
         "35",
         "Cabaji",
         "208.0",
         "34",
         "0.0",
         "",
         "Bagīzu Deribarī",
         "Don't have",
         "Don't have"
        ],
        [
         "36",
         "Kuro",
         "207.0",
         "35",
         "16000000.0",
         "Captain",
         "Kuroneko Kaizoku Dan",
         "Don't have",
         "Don't have"
        ],
        [
         "37",
         "Sham",
         "201.0",
         "23",
         "7000000.0",
         "Officer",
         "Kuroneko Kaizoku Dan",
         "Don't have",
         "Don't have"
        ],
        [
         "38",
         "Buchi",
         "216.0",
         "23",
         "7000000.0",
         "Officer",
         "Kuroneko Kaizoku Dan",
         "Don't have",
         "Don't have"
        ],
        [
         "39",
         "Krieg / Don Krieg",
         "243.0",
         "44",
         "17000000.0",
         "Captain",
         "Kuriiku Kaizoku Kantai",
         "Don't have",
         "Don't have"
        ],
        [
         "40",
         "Gyn",
         "186.0",
         "27",
         "12000000.0",
         "Vice-Admiral",
         "Kuriiku Kaizoku Kantai",
         "Don't have",
         "Don't have"
        ],
        [
         "41",
         "Pearl",
         "239.0",
         "25",
         "0.0",
         "Captain (2nd Battalion)",
         "Kuriiku Kaizoku Kantai",
         "Don't have",
         "Don't have"
        ],
        [
         "42",
         "Montblanc Cricket",
         "242.0",
         "43",
         "25000000.0",
         "Commander-in-Chief",
         "Saruyama Rengō",
         "Don't have",
         "Don't have"
        ],
        [
         "43",
         "Masira",
         "345.0",
         "25",
         "23000000.0",
         "",
         "Saruyama Rengō",
         "Don't have",
         "Don't have"
        ],
        [
         "44",
         "Shojo",
         "351.0",
         "27",
         "36000000.0",
         "",
         "Saruyama Rengō",
         "Don't have",
         "Don't have"
        ],
        [
         "45",
         "Foxy",
         "180.0",
         "38",
         "24000000.0",
         "Captain",
         "Fokushī Kaizokudan",
         "Paramecia",
         "Noro Noro no Mi"
        ],
        [
         "48",
         "Gecko Moria",
         "692.0",
         "50",
         "320000000.0",
         "Captain",
         "Surirā Bāku",
         "Paramecia",
         "Kage Kage no Mi"
        ],
        [
         "49",
         "Hogback",
         "223.0",
         "47",
         "0.0",
         "Mysterious Four",
         "Surirā Bāku",
         "Don't have",
         "Don't have"
        ],
        [
         "50",
         "Absalom",
         "195.0",
         "36",
         "0.0",
         "Mysterious Four",
         "Surirā Bāku",
         "Paramecia",
         "Suke Suke no Mi"
        ],
        [
         "51",
         "Perona",
         "160.0",
         "25",
         "0.0",
         "Mysterious Four",
         "Surirā Bāku",
         "Paramecia",
         "Horo Horo no Mi"
        ],
        [
         "52",
         "Laura",
         "215.0",
         "26",
         "24000000.0",
         "Captain",
         "Rōringu Kaizokudan",
         "Don't have",
         "Don't have"
        ],
        [
         "53",
         "Trafalgar D. Water Law",
         "191.0",
         "26",
         "500000000.0",
         "Captain",
         "Hāto no Kaizokudan",
         "Paramecia",
         "Ope Ope no Mi"
        ],
        [
         "54",
         "Bepo",
         "240.0",
         "22",
         "500.0",
         "Browser",
         "Hāto no Kaizokudan",
         "Don't have",
         "Don't have"
        ],
        [
         "58",
         "Eustass Kidd",
         "205.0",
         "23",
         "470000000.0",
         "Captain",
         "Kiddo Kaizokudan",
         "Paramecia",
         "Jiki Jiki no Mi"
        ],
        [
         "59",
         "Killer",
         "195.0",
         "27",
         "200000000.0",
         "Fighter",
         "Kiddo Kaizokudan",
         "Don't have",
         "Don't have"
        ],
        [
         "62",
         "Capone Bege",
         "166.0",
         "42",
         "350000000.0",
         "Captain",
         "Faia Tanku Kaizokudan",
         "Paramecia",
         "Shiro Shiro no Mi"
        ],
        [
         "63",
         "Vito",
         "242.0",
         "36",
         "95000000.0",
         "Advisor",
         "Faia Tanku Kaizokudan",
         "Don't have",
         "Don't have"
        ],
        [
         "64",
         "Gotti",
         "375.0",
         "33",
         "90000000.0",
         "Assassin",
         "Faia Tanku Kaizokudan",
         "Don't have",
         "Don't have"
        ],
        [
         "65",
         "Charlotte Chiffon",
         "215.0",
         "26",
         "0.0",
         "",
         "Faia Tanku Kaizokudan",
         "Don't have",
         "Don't have"
        ],
        [
         "67",
         "Jewelry Bonney",
         "174.0",
         "24",
         "140000000.0",
         "Captain",
         "Faia Tanku Kaizokudan",
         "Don't have",
         "Don't have"
        ],
        [
         "68",
         "Urouge",
         "388.0",
         "47",
         "108000000.0",
         "Captain",
         "Hakaisō Kaizokudan",
         "Don't have",
         "Don't have"
        ]
       ],
       "shape": {
        "columns": 8,
        "rows": 354
       }
      },
      "text/html": [
       "<div>\n",
       "<style scoped>\n",
       "    .dataframe tbody tr th:only-of-type {\n",
       "        vertical-align: middle;\n",
       "    }\n",
       "\n",
       "    .dataframe tbody tr th {\n",
       "        vertical-align: top;\n",
       "    }\n",
       "\n",
       "    .dataframe thead th {\n",
       "        text-align: right;\n",
       "    }\n",
       "</style>\n",
       "<table border=\"1\" class=\"dataframe\">\n",
       "  <thead>\n",
       "    <tr style=\"text-align: right;\">\n",
       "      <th></th>\n",
       "      <th>name</th>\n",
       "      <th>size</th>\n",
       "      <th>age</th>\n",
       "      <th>bounty</th>\n",
       "      <th>job</th>\n",
       "      <th>crew.roman_name</th>\n",
       "      <th>fruit.type</th>\n",
       "      <th>fruit.roman_name</th>\n",
       "    </tr>\n",
       "  </thead>\n",
       "  <tbody>\n",
       "    <tr>\n",
       "      <th>0</th>\n",
       "      <td>Monkey D Luffy</td>\n",
       "      <td>174.0</td>\n",
       "      <td>19</td>\n",
       "      <td>3.000000e+09</td>\n",
       "      <td>Captain</td>\n",
       "      <td>Mugiwara no Ichimi</td>\n",
       "      <td>Paramecia</td>\n",
       "      <td>Gomu Gomu no Mi</td>\n",
       "    </tr>\n",
       "    <tr>\n",
       "      <th>1</th>\n",
       "      <td>Roronoa Zoro</td>\n",
       "      <td>181.0</td>\n",
       "      <td>21</td>\n",
       "      <td>3.200000e+08</td>\n",
       "      <td>Right-hand man</td>\n",
       "      <td>Mugiwara no Ichimi</td>\n",
       "      <td>Don't have</td>\n",
       "      <td>Don't have</td>\n",
       "    </tr>\n",
       "    <tr>\n",
       "      <th>2</th>\n",
       "      <td>Nami</td>\n",
       "      <td>170.0</td>\n",
       "      <td>20</td>\n",
       "      <td>6.600000e+07</td>\n",
       "      <td>Navigator</td>\n",
       "      <td>Mugiwara no Ichimi</td>\n",
       "      <td>Don't have</td>\n",
       "      <td>Don't have</td>\n",
       "    </tr>\n",
       "    <tr>\n",
       "      <th>3</th>\n",
       "      <td>Usopp</td>\n",
       "      <td>176.0</td>\n",
       "      <td>19</td>\n",
       "      <td>2.000000e+08</td>\n",
       "      <td>Sniper</td>\n",
       "      <td>Mugiwara no Ichimi</td>\n",
       "      <td>Don't have</td>\n",
       "      <td>Don't have</td>\n",
       "    </tr>\n",
       "    <tr>\n",
       "      <th>4</th>\n",
       "      <td>Sanji</td>\n",
       "      <td>180.0</td>\n",
       "      <td>21</td>\n",
       "      <td>3.300000e+08</td>\n",
       "      <td>Cook</td>\n",
       "      <td>Mugiwara no Ichimi</td>\n",
       "      <td>Don't have</td>\n",
       "      <td>Don't have</td>\n",
       "    </tr>\n",
       "    <tr>\n",
       "      <th>...</th>\n",
       "      <td>...</td>\n",
       "      <td>...</td>\n",
       "      <td>...</td>\n",
       "      <td>...</td>\n",
       "      <td>...</td>\n",
       "      <td>...</td>\n",
       "      <td>...</td>\n",
       "      <td>...</td>\n",
       "    </tr>\n",
       "    <tr>\n",
       "      <th>689</th>\n",
       "      <td>Bartholomew Kuma</td>\n",
       "      <td>689.0</td>\n",
       "      <td>47</td>\n",
       "      <td>2.960000e+08</td>\n",
       "      <td>Lieutenant</td>\n",
       "      <td>Don't have</td>\n",
       "      <td>Paramecia</td>\n",
       "      <td>Nikyu Nikyu no Mi</td>\n",
       "    </tr>\n",
       "    <tr>\n",
       "      <th>690</th>\n",
       "      <td>César Clown</td>\n",
       "      <td>309.0</td>\n",
       "      <td>40</td>\n",
       "      <td>3.000000e+08</td>\n",
       "      <td></td>\n",
       "      <td>Don't have</td>\n",
       "      <td>Logia</td>\n",
       "      <td>Gasu Gasu no Mi</td>\n",
       "    </tr>\n",
       "    <tr>\n",
       "      <th>691</th>\n",
       "      <td>Morgans</td>\n",
       "      <td>305.0</td>\n",
       "      <td>53</td>\n",
       "      <td>0.000000e+00</td>\n",
       "      <td>World Economic Journal (boss)</td>\n",
       "      <td>Don't have</td>\n",
       "      <td>Zoan</td>\n",
       "      <td>Tori Tori no Mi Moderu Arubatorosu</td>\n",
       "    </tr>\n",
       "    <tr>\n",
       "      <th>734</th>\n",
       "      <td>Zéphyr</td>\n",
       "      <td>348.0</td>\n",
       "      <td>72</td>\n",
       "      <td>0.000000e+00</td>\n",
       "      <td>Chef</td>\n",
       "      <td>Don't have</td>\n",
       "      <td>Don't have</td>\n",
       "      <td>Don't have</td>\n",
       "    </tr>\n",
       "    <tr>\n",
       "      <th>753</th>\n",
       "      <td>Orlombus</td>\n",
       "      <td>480.0</td>\n",
       "      <td>42</td>\n",
       "      <td>1.480000e+08</td>\n",
       "      <td>Admiral</td>\n",
       "      <td>Yonta Maria Dai-senda</td>\n",
       "      <td>Don't have</td>\n",
       "      <td>Don't have</td>\n",
       "    </tr>\n",
       "  </tbody>\n",
       "</table>\n",
       "<p>354 rows × 8 columns</p>\n",
       "</div>"
      ],
      "text/plain": [
       "                 name   size  age        bounty  \\\n",
       "0      Monkey D Luffy  174.0   19  3.000000e+09   \n",
       "1        Roronoa Zoro  181.0   21  3.200000e+08   \n",
       "2                Nami  170.0   20  6.600000e+07   \n",
       "3               Usopp  176.0   19  2.000000e+08   \n",
       "4               Sanji  180.0   21  3.300000e+08   \n",
       "..                ...    ...  ...           ...   \n",
       "689  Bartholomew Kuma  689.0   47  2.960000e+08   \n",
       "690       César Clown  309.0   40  3.000000e+08   \n",
       "691           Morgans  305.0   53  0.000000e+00   \n",
       "734            Zéphyr  348.0   72  0.000000e+00   \n",
       "753          Orlombus  480.0   42  1.480000e+08   \n",
       "\n",
       "                               job        crew.roman_name  fruit.type  \\\n",
       "0                          Captain     Mugiwara no Ichimi   Paramecia   \n",
       "1                   Right-hand man     Mugiwara no Ichimi  Don't have   \n",
       "2                        Navigator     Mugiwara no Ichimi  Don't have   \n",
       "3                           Sniper     Mugiwara no Ichimi  Don't have   \n",
       "4                             Cook     Mugiwara no Ichimi  Don't have   \n",
       "..                             ...                    ...         ...   \n",
       "689                     Lieutenant             Don't have   Paramecia   \n",
       "690                                            Don't have       Logia   \n",
       "691  World Economic Journal (boss)             Don't have        Zoan   \n",
       "734                           Chef             Don't have  Don't have   \n",
       "753                        Admiral  Yonta Maria Dai-senda  Don't have   \n",
       "\n",
       "                       fruit.roman_name  \n",
       "0                       Gomu Gomu no Mi  \n",
       "1                            Don't have  \n",
       "2                            Don't have  \n",
       "3                            Don't have  \n",
       "4                            Don't have  \n",
       "..                                  ...  \n",
       "689                   Nikyu Nikyu no Mi  \n",
       "690                     Gasu Gasu no Mi  \n",
       "691  Tori Tori no Mi Moderu Arubatorosu  \n",
       "734                          Don't have  \n",
       "753                          Don't have  \n",
       "\n",
       "[354 rows x 8 columns]"
      ]
     },
     "execution_count": 247,
     "metadata": {},
     "output_type": "execute_result"
    }
   ],
   "source": [
    "df"
   ]
  },
  {
   "cell_type": "code",
   "execution_count": 248,
   "id": "851a681d",
   "metadata": {},
   "outputs": [
    {
     "name": "stdout",
     "output_type": "stream",
     "text": [
      "<class 'pandas.core.frame.DataFrame'>\n",
      "Index: 354 entries, 0 to 753\n",
      "Data columns (total 8 columns):\n",
      " #   Column            Non-Null Count  Dtype  \n",
      "---  ------            --------------  -----  \n",
      " 0   name              354 non-null    object \n",
      " 1   size              354 non-null    float64\n",
      " 2   age               354 non-null    int64  \n",
      " 3   bounty            354 non-null    float64\n",
      " 4   job               354 non-null    object \n",
      " 5   crew.roman_name   354 non-null    object \n",
      " 6   fruit.type        354 non-null    object \n",
      " 7   fruit.roman_name  354 non-null    object \n",
      "dtypes: float64(2), int64(1), object(5)\n",
      "memory usage: 24.9+ KB\n"
     ]
    }
   ],
   "source": [
    "df.info()"
   ]
  },
  {
   "cell_type": "markdown",
   "id": "fd55e1d2",
   "metadata": {},
   "source": [
    "### 5. Salvando Base de dados em arquivo CSV"
   ]
  },
  {
   "cell_type": "code",
   "execution_count": null,
   "id": "92e21262",
   "metadata": {},
   "outputs": [],
   "source": [
    "df.to_csv(\"one_piece_dataset.csv\")"
   ]
  }
 ],
 "metadata": {
  "kernelspec": {
   "display_name": "venv (3.12.7)",
   "language": "python",
   "name": "python3"
  },
  "language_info": {
   "codemirror_mode": {
    "name": "ipython",
    "version": 3
   },
   "file_extension": ".py",
   "mimetype": "text/x-python",
   "name": "python",
   "nbconvert_exporter": "python",
   "pygments_lexer": "ipython3",
   "version": "3.12.7"
  }
 },
 "nbformat": 4,
 "nbformat_minor": 5
}
