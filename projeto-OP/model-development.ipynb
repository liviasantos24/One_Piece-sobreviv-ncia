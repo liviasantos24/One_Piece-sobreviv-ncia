{
 "cells": [
  {
   "cell_type": "markdown",
   "id": "d587ba5d",
   "metadata": {},
   "source": [
    "## Tratamento dos Dados: One Piece\n",
    "\n",
    "- API Utilizada: https://api-onepiece.com/en/documentation\n",
    "- Objetivo: Realizar um tratamento de dados com a finalidade de treinar um algoritmo de Machine Learning"
   ]
  },
  {
   "cell_type": "markdown",
   "id": "a36800b2",
   "metadata": {},
   "source": [
    "### 1. Importação das Bibliotecas"
   ]
  },
  {
   "cell_type": "code",
   "execution_count": 2,
   "id": "b9a8312e",
   "metadata": {},
   "outputs": [],
   "source": [
    "import pandas as pd\n",
    "import numpy as np\n",
    "import requests"
   ]
  },
  {
   "cell_type": "markdown",
   "id": "4e72cad4",
   "metadata": {},
   "source": [
    "### 2. Importando base de dados por uma API"
   ]
  },
  {
   "cell_type": "code",
   "execution_count": 2,
   "id": "6e177b43",
   "metadata": {},
   "outputs": [],
   "source": [
    "response = requests.get(\"https://api.api-onepiece.com/v2/characters/en?name=Monkey%20D%20Luffy\")\n",
    "\n",
    "if response.status_code == 200:\n",
    "    data = response.json()\n",
    "    df = pd.json_normalize(data) \n",
    "else:\n",
    "    print(\"Erro:\", response.status_code, response.text)\n"
   ]
  },
  {
   "cell_type": "markdown",
   "id": "d5c1f0d3",
   "metadata": {},
   "source": [
    "### 3. Análise de Dados"
   ]
  },
  {
   "cell_type": "code",
   "execution_count": 3,
   "id": "6ba627ad",
   "metadata": {},
   "outputs": [
    {
     "name": "stdout",
     "output_type": "stream",
     "text": [
      "<class 'pandas.core.frame.DataFrame'>\n",
      "RangeIndex: 773 entries, 0 to 772\n",
      "Data columns (total 22 columns):\n",
      " #   Column               Non-Null Count  Dtype  \n",
      "---  ------               --------------  -----  \n",
      " 0   id                   773 non-null    int64  \n",
      " 1   name                 773 non-null    object \n",
      " 2   size                 761 non-null    object \n",
      " 3   age                  761 non-null    object \n",
      " 4   bounty               756 non-null    object \n",
      " 5   job                  772 non-null    object \n",
      " 6   status               772 non-null    object \n",
      " 7   crew.id              738 non-null    float64\n",
      " 8   crew.name            738 non-null    object \n",
      " 9   crew.description     0 non-null      float64\n",
      " 10  crew.status          738 non-null    object \n",
      " 11  crew.number          393 non-null    object \n",
      " 12  crew.roman_name      449 non-null    object \n",
      " 13  crew.total_prime     393 non-null    object \n",
      " 14  crew.is_yonko        738 non-null    object \n",
      " 15  fruit.id             178 non-null    float64\n",
      " 16  fruit.name           178 non-null    object \n",
      " 17  fruit.description    178 non-null    object \n",
      " 18  fruit.type           178 non-null    object \n",
      " 19  fruit.filename       178 non-null    object \n",
      " 20  fruit.roman_name     151 non-null    object \n",
      " 21  fruit.technicalFile  178 non-null    object \n",
      "dtypes: float64(3), int64(1), object(18)\n",
      "memory usage: 133.0+ KB\n"
     ]
    }
   ],
   "source": [
    "df.info()"
   ]
  },
  {
   "cell_type": "markdown",
   "id": "4b7d68c1",
   "metadata": {},
   "source": [
    "### 4. Tratamento de Dados"
   ]
  },
  {
   "cell_type": "markdown",
   "id": "ea58db94",
   "metadata": {},
   "source": [
    "#### 4.1 Removendo colunas desnecessárias"
   ]
  },
  {
   "cell_type": "code",
   "execution_count": 4,
   "id": "bf156e77",
   "metadata": {},
   "outputs": [],
   "source": [
    "df = df.drop(columns=['id','status','crew.id', 'crew.name', 'crew.description', 'crew.status', 'crew.number', 'crew.total_prime', 'crew.is_yonko', 'fruit.id', 'fruit.name', 'fruit.description', 'fruit.filename', 'fruit.technicalFile'])"
   ]
  },
  {
   "cell_type": "markdown",
   "id": "6cc76562",
   "metadata": {},
   "source": [
    "#### 4.2 Padronizando os valores vazios:"
   ]
  },
  {
   "cell_type": "code",
   "execution_count": 5,
   "id": "58099a2f",
   "metadata": {},
   "outputs": [],
   "source": [
    "df[\"fruit.type\"] = df[\"fruit.type\"].fillna(\"Don't have\")\n",
    "df[\"fruit.roman_name\"] = df[\"fruit.roman_name\"].fillna(\"Don't have\")\n",
    "df[\"crew.roman_name\"] = df[\"crew.roman_name\"].fillna(\"Don't have\")"
   ]
  },
  {
   "cell_type": "markdown",
   "id": "6eeb911e",
   "metadata": {},
   "source": [
    "#### 4.3 Convertendo o valor da recompensa para um tipo numérico:"
   ]
  },
  {
   "cell_type": "code",
   "execution_count": 6,
   "id": "c24b4e13",
   "metadata": {},
   "outputs": [],
   "source": [
    "df['bounty'] = df['bounty'].str.replace('.', '', regex=False)\n",
    "df['bounty'] = pd.to_numeric(df['bounty'], errors='coerce')\n",
    "df['bounty'] = df['bounty'].fillna(0)"
   ]
  },
  {
   "cell_type": "markdown",
   "id": "0e24ab12",
   "metadata": {},
   "source": [
    "#### 4.4 Convertendo o tamanho dos personagem para um tipo numérico:"
   ]
  },
  {
   "cell_type": "code",
   "execution_count": 7,
   "id": "43379744",
   "metadata": {},
   "outputs": [],
   "source": [
    "df.replace({'size': ''}, np.nan, inplace=True)\n",
    "df = df.dropna(subset=['size'])\n",
    "df['size'] = df['size'].str.replace('cm', '', regex=False)\n",
    "df['size'] = df['size'].str.replace(' ', '', regex=False)\n",
    "df['size'] = pd.to_numeric(df['size'], errors='coerce')"
   ]
  },
  {
   "cell_type": "markdown",
   "id": "e94b2c1e",
   "metadata": {},
   "source": [
    "#### 4.5 Convertendo a idade dos personagens para um tipo numérico:"
   ]
  },
  {
   "cell_type": "code",
   "execution_count": 8,
   "id": "04a93f49",
   "metadata": {},
   "outputs": [],
   "source": [
    "df.replace({'age': ''}, np.nan, inplace=True)\n",
    "df = df.dropna(subset=['age'])\n",
    "df['age'] = df['age'].str.replace('ans', '', regex=False)\n",
    "df['age'] = df['age'].str.replace(' ', '', regex=False)\n",
    "df['age'] = pd.to_numeric(df['age'], errors='coerce')"
   ]
  },
  {
   "cell_type": "markdown",
   "id": "7d08a53a",
   "metadata": {},
   "source": [
    "#### 4.6 Tratando a ocupação do usuário:"
   ]
  },
  {
   "cell_type": "code",
   "execution_count": 9,
   "id": "38fb5e47",
   "metadata": {},
   "outputs": [],
   "source": [
    "df.replace({'job': ''}, np.nan, inplace=True)\n",
    "df[\"job\"] = df[\"job\"].fillna(\"Don't have\")"
   ]
  },
  {
   "cell_type": "markdown",
   "id": "3b68e448",
   "metadata": {},
   "source": [
    "#### 4.7 Removendo Outliers"
   ]
  },
  {
   "cell_type": "code",
   "execution_count": 10,
   "id": "5a03c5cf",
   "metadata": {},
   "outputs": [],
   "source": [
    "df = df.drop([760, 602, 255])"
   ]
  },
  {
   "cell_type": "code",
   "execution_count": 11,
   "id": "851a681d",
   "metadata": {},
   "outputs": [
    {
     "name": "stdout",
     "output_type": "stream",
     "text": [
      "<class 'pandas.core.frame.DataFrame'>\n",
      "Index: 354 entries, 0 to 753\n",
      "Data columns (total 8 columns):\n",
      " #   Column            Non-Null Count  Dtype  \n",
      "---  ------            --------------  -----  \n",
      " 0   name              354 non-null    object \n",
      " 1   size              354 non-null    float64\n",
      " 2   age               354 non-null    int64  \n",
      " 3   bounty            354 non-null    float64\n",
      " 4   job               354 non-null    object \n",
      " 5   crew.roman_name   354 non-null    object \n",
      " 6   fruit.type        354 non-null    object \n",
      " 7   fruit.roman_name  354 non-null    object \n",
      "dtypes: float64(2), int64(1), object(5)\n",
      "memory usage: 24.9+ KB\n"
     ]
    }
   ],
   "source": [
    "df.info()"
   ]
  },
  {
   "cell_type": "markdown",
   "id": "fd55e1d2",
   "metadata": {},
   "source": [
    "### 5. Criando Classes"
   ]
  },
  {
   "cell_type": "code",
   "execution_count": 12,
   "id": "f3d0d396",
   "metadata": {},
   "outputs": [],
   "source": [
    "def define_survival(row):\n",
    "    score = 0\n",
    "    \n",
    "    # Regra 1: recompensa\n",
    "    if row['bounty'] > 1e8:\n",
    "        score += 2\n",
    "    elif row['bounty'] > 1e6:\n",
    "        score += 1\n",
    "    \n",
    "    # Regra 2: fruta\n",
    "    if row['fruit.type'].lower() == 'logia':\n",
    "        score += 3\n",
    "    elif row['fruit.type'].lower() == 'zoan':\n",
    "        score += 2\n",
    "    elif row['fruit.type'].lower() == 'paramecia':\n",
    "        score += 1\n",
    "    \n",
    "    # Regra 3: job\n",
    "    if isinstance(row['job'], str):\n",
    "        job = row['job'].lower()\n",
    "        if 'captain' in job or 'swordsman' in job or 'right-hand' in job:\n",
    "            score += 2\n",
    "        elif 'sniper' in job or 'fighter' in job:\n",
    "            score += 1\n",
    "    \n",
    "    # Regra 4: idade\n",
    "    if row['age'] < 16 or row['age'] > 70:\n",
    "        score -= 1\n",
    "    \n",
    "    # Regra 5: altura\n",
    "    if row['size'] < 100 or row['size'] > 250:\n",
    "        score -= 1\n",
    "    \n",
    "    # decisão final\n",
    "    return 1 if score >= 3 else 0\n"
   ]
  },
  {
   "cell_type": "code",
   "execution_count": 13,
   "id": "0b50658e",
   "metadata": {},
   "outputs": [],
   "source": [
    "df['survive'] = df.apply(define_survival, axis=1)"
   ]
  },
  {
   "cell_type": "code",
   "execution_count": 14,
   "id": "cb3bc617",
   "metadata": {},
   "outputs": [
    {
     "data": {
      "application/vnd.microsoft.datawrangler.viewer.v0+json": {
       "columns": [
        {
         "name": "index",
         "rawType": "int64",
         "type": "integer"
        },
        {
         "name": "name",
         "rawType": "object",
         "type": "string"
        },
        {
         "name": "size",
         "rawType": "float64",
         "type": "float"
        },
        {
         "name": "age",
         "rawType": "int64",
         "type": "integer"
        },
        {
         "name": "bounty",
         "rawType": "float64",
         "type": "float"
        },
        {
         "name": "job",
         "rawType": "object",
         "type": "string"
        },
        {
         "name": "crew.roman_name",
         "rawType": "object",
         "type": "string"
        },
        {
         "name": "fruit.type",
         "rawType": "object",
         "type": "string"
        },
        {
         "name": "fruit.roman_name",
         "rawType": "object",
         "type": "string"
        },
        {
         "name": "survive",
         "rawType": "int64",
         "type": "integer"
        }
       ],
       "ref": "3411296f-7188-40e7-8327-3e6f636ce000",
       "rows": [
        [
         "0",
         "Monkey D Luffy",
         "174.0",
         "19",
         "3000000000.0",
         "Captain",
         "Mugiwara no Ichimi",
         "Paramecia",
         "Gomu Gomu no Mi",
         "1"
        ],
        [
         "1",
         "Roronoa Zoro",
         "181.0",
         "21",
         "320000000.0",
         "Right-hand man",
         "Mugiwara no Ichimi",
         "Don't have",
         "Don't have",
         "1"
        ],
        [
         "2",
         "Nami",
         "170.0",
         "20",
         "66000000.0",
         "Navigator",
         "Mugiwara no Ichimi",
         "Don't have",
         "Don't have",
         "0"
        ],
        [
         "3",
         "Usopp",
         "176.0",
         "19",
         "200000000.0",
         "Sniper",
         "Mugiwara no Ichimi",
         "Don't have",
         "Don't have",
         "1"
        ],
        [
         "4",
         "Sanji",
         "180.0",
         "21",
         "330000000.0",
         "Cook",
         "Mugiwara no Ichimi",
         "Don't have",
         "Don't have",
         "0"
        ],
        [
         "5",
         "Tony-Tony Chopper",
         "90.0",
         "17",
         "100.0",
         "Doctor",
         "Mugiwara no Ichimi",
         "Zoan",
         "Hito Hito no Mi",
         "0"
        ],
        [
         "6",
         "Nico Robin",
         "188.0",
         "30",
         "130000000.0",
         "Archaeologist",
         "Mugiwara no Ichimi",
         "Paramecia",
         "Hana Hana no Mi",
         "1"
        ],
        [
         "7",
         "Franky",
         "240.0",
         "36",
         "94000000.0",
         "Carpenter",
         "Mugiwara no Ichimi",
         "Don't have",
         "Don't have",
         "0"
        ],
        [
         "8",
         "Brook",
         "277.0",
         "90",
         "83000000.0",
         "Musician",
         "Mugiwara no Ichimi",
         "Paramecia",
         "Yomi Yomi no Mi",
         "0"
        ],
        [
         "9",
         "Jinbe",
         "301.0",
         "46",
         "438000000.0",
         "Helmsman",
         "Mugiwara no Ichimi",
         "Don't have",
         "Don't have",
         "0"
        ],
        [
         "11",
         "Cavendish",
         "208.0",
         "26",
         "330000000.0",
         "Captain",
         "Mugiwara Dai-sendan",
         "Don't have",
         "Don't have",
         "1"
        ],
        [
         "12",
         "Suleiman",
         "240.0",
         "40",
         "670000000.0",
         "Fighter",
         "Mugiwara Dai-sendan",
         "Don't have",
         "Don't have",
         "1"
        ],
        [
         "13",
         "Bartolomeo",
         "220.0",
         "24",
         "200000000.0",
         "Captain",
         "Mugiwara Dai-sendan",
         "Paramecia",
         "Bari Bari no Mi",
         "1"
        ],
        [
         "15",
         "Sai",
         "242.0",
         "28",
         "210000000.0",
         "13th Chief Commander",
         "Mugiwara Dai-sendan",
         "Don't have",
         "Don't have",
         "0"
        ],
        [
         "17",
         "Baby 5",
         "181.0",
         "24",
         "0.0",
         "Don't have",
         "Mugiwara Dai-sendan",
         "Paramecia",
         "Buki Buki no Mi",
         "0"
        ],
        [
         "18",
         "Ideo",
         "225.0",
         "22",
         "0.0",
         "Captain",
         "Mugiwara Dai-sendan",
         "Don't have",
         "Don't have",
         "0"
        ],
        [
         "19",
         "Blue Gilly",
         "314.0",
         "24",
         "0.0",
         "Don't have",
         "Mugiwara Dai-sendan",
         "Don't have",
         "Don't have",
         "0"
        ],
        [
         "22",
         "Léo",
         "23.0",
         "25",
         "0.0",
         "Captain",
         "Mugiwara Dai-sendan",
         "Paramecia",
         "Nui Nui no Mi",
         "0"
        ],
        [
         "25",
         "Hajrudin",
         "2200.0",
         "81",
         "0.0",
         "Captain",
         "Mugiwara Dai-sendan",
         "Don't have",
         "Don't have",
         "0"
        ],
        [
         "30",
         "Orlumbus",
         "480.0",
         "42",
         "148000000.0",
         "Admiral",
         "Mugiwara Dai-sendan",
         "Don't have",
         "Don't have",
         "0"
        ],
        [
         "31",
         "Baggy / Le Clown",
         "192.0",
         "39",
         "150000000.0",
         "Chairman",
         "Bagīzu Deribarī",
         "Paramecia",
         "Bara Bara no Mi",
         "1"
        ],
        [
         "32",
         "Alvida",
         "198.0",
         "27",
         "5000000.0",
         "Don't have",
         "Bagīzu Deribarī",
         "Paramecia",
         "Sube Sube no Mi",
         "0"
        ],
        [
         "33",
         "Galdino",
         "179.0",
         "37",
         "24000000.0",
         "Don't have",
         "Bagīzu Deribarī",
         "Paramecia",
         "Doru Doru no Mi",
         "0"
        ],
        [
         "34",
         "Morge",
         "197.0",
         "29",
         "0.0",
         "Don't have",
         "Bagīzu Deribarī",
         "Don't have",
         "Don't have",
         "0"
        ],
        [
         "35",
         "Cabaji",
         "208.0",
         "34",
         "0.0",
         "Don't have",
         "Bagīzu Deribarī",
         "Don't have",
         "Don't have",
         "0"
        ],
        [
         "36",
         "Kuro",
         "207.0",
         "35",
         "16000000.0",
         "Captain",
         "Kuroneko Kaizoku Dan",
         "Don't have",
         "Don't have",
         "1"
        ],
        [
         "37",
         "Sham",
         "201.0",
         "23",
         "7000000.0",
         "Officer",
         "Kuroneko Kaizoku Dan",
         "Don't have",
         "Don't have",
         "0"
        ],
        [
         "38",
         "Buchi",
         "216.0",
         "23",
         "7000000.0",
         "Officer",
         "Kuroneko Kaizoku Dan",
         "Don't have",
         "Don't have",
         "0"
        ],
        [
         "39",
         "Krieg / Don Krieg",
         "243.0",
         "44",
         "17000000.0",
         "Captain",
         "Kuriiku Kaizoku Kantai",
         "Don't have",
         "Don't have",
         "1"
        ],
        [
         "40",
         "Gyn",
         "186.0",
         "27",
         "12000000.0",
         "Vice-Admiral",
         "Kuriiku Kaizoku Kantai",
         "Don't have",
         "Don't have",
         "0"
        ],
        [
         "41",
         "Pearl",
         "239.0",
         "25",
         "0.0",
         "Captain (2nd Battalion)",
         "Kuriiku Kaizoku Kantai",
         "Don't have",
         "Don't have",
         "0"
        ],
        [
         "42",
         "Montblanc Cricket",
         "242.0",
         "43",
         "25000000.0",
         "Commander-in-Chief",
         "Saruyama Rengō",
         "Don't have",
         "Don't have",
         "0"
        ],
        [
         "43",
         "Masira",
         "345.0",
         "25",
         "23000000.0",
         "Don't have",
         "Saruyama Rengō",
         "Don't have",
         "Don't have",
         "0"
        ],
        [
         "44",
         "Shojo",
         "351.0",
         "27",
         "36000000.0",
         "Don't have",
         "Saruyama Rengō",
         "Don't have",
         "Don't have",
         "0"
        ],
        [
         "45",
         "Foxy",
         "180.0",
         "38",
         "24000000.0",
         "Captain",
         "Fokushī Kaizokudan",
         "Paramecia",
         "Noro Noro no Mi",
         "1"
        ],
        [
         "48",
         "Gecko Moria",
         "692.0",
         "50",
         "320000000.0",
         "Captain",
         "Surirā Bāku",
         "Paramecia",
         "Kage Kage no Mi",
         "1"
        ],
        [
         "49",
         "Hogback",
         "223.0",
         "47",
         "0.0",
         "Mysterious Four",
         "Surirā Bāku",
         "Don't have",
         "Don't have",
         "0"
        ],
        [
         "50",
         "Absalom",
         "195.0",
         "36",
         "0.0",
         "Mysterious Four",
         "Surirā Bāku",
         "Paramecia",
         "Suke Suke no Mi",
         "0"
        ],
        [
         "51",
         "Perona",
         "160.0",
         "25",
         "0.0",
         "Mysterious Four",
         "Surirā Bāku",
         "Paramecia",
         "Horo Horo no Mi",
         "0"
        ],
        [
         "52",
         "Laura",
         "215.0",
         "26",
         "24000000.0",
         "Captain",
         "Rōringu Kaizokudan",
         "Don't have",
         "Don't have",
         "1"
        ],
        [
         "53",
         "Trafalgar D. Water Law",
         "191.0",
         "26",
         "500000000.0",
         "Captain",
         "Hāto no Kaizokudan",
         "Paramecia",
         "Ope Ope no Mi",
         "1"
        ],
        [
         "54",
         "Bepo",
         "240.0",
         "22",
         "500.0",
         "Browser",
         "Hāto no Kaizokudan",
         "Don't have",
         "Don't have",
         "0"
        ],
        [
         "58",
         "Eustass Kidd",
         "205.0",
         "23",
         "470000000.0",
         "Captain",
         "Kiddo Kaizokudan",
         "Paramecia",
         "Jiki Jiki no Mi",
         "1"
        ],
        [
         "59",
         "Killer",
         "195.0",
         "27",
         "200000000.0",
         "Fighter",
         "Kiddo Kaizokudan",
         "Don't have",
         "Don't have",
         "1"
        ],
        [
         "62",
         "Capone Bege",
         "166.0",
         "42",
         "350000000.0",
         "Captain",
         "Faia Tanku Kaizokudan",
         "Paramecia",
         "Shiro Shiro no Mi",
         "1"
        ],
        [
         "63",
         "Vito",
         "242.0",
         "36",
         "95000000.0",
         "Advisor",
         "Faia Tanku Kaizokudan",
         "Don't have",
         "Don't have",
         "0"
        ],
        [
         "64",
         "Gotti",
         "375.0",
         "33",
         "90000000.0",
         "Assassin",
         "Faia Tanku Kaizokudan",
         "Don't have",
         "Don't have",
         "0"
        ],
        [
         "65",
         "Charlotte Chiffon",
         "215.0",
         "26",
         "0.0",
         "Don't have",
         "Faia Tanku Kaizokudan",
         "Don't have",
         "Don't have",
         "0"
        ],
        [
         "67",
         "Jewelry Bonney",
         "174.0",
         "24",
         "140000000.0",
         "Captain",
         "Faia Tanku Kaizokudan",
         "Don't have",
         "Don't have",
         "1"
        ],
        [
         "68",
         "Urouge",
         "388.0",
         "47",
         "108000000.0",
         "Captain",
         "Hakaisō Kaizokudan",
         "Don't have",
         "Don't have",
         "1"
        ]
       ],
       "shape": {
        "columns": 9,
        "rows": 354
       }
      },
      "text/html": [
       "<div>\n",
       "<style scoped>\n",
       "    .dataframe tbody tr th:only-of-type {\n",
       "        vertical-align: middle;\n",
       "    }\n",
       "\n",
       "    .dataframe tbody tr th {\n",
       "        vertical-align: top;\n",
       "    }\n",
       "\n",
       "    .dataframe thead th {\n",
       "        text-align: right;\n",
       "    }\n",
       "</style>\n",
       "<table border=\"1\" class=\"dataframe\">\n",
       "  <thead>\n",
       "    <tr style=\"text-align: right;\">\n",
       "      <th></th>\n",
       "      <th>name</th>\n",
       "      <th>size</th>\n",
       "      <th>age</th>\n",
       "      <th>bounty</th>\n",
       "      <th>job</th>\n",
       "      <th>crew.roman_name</th>\n",
       "      <th>fruit.type</th>\n",
       "      <th>fruit.roman_name</th>\n",
       "      <th>survive</th>\n",
       "    </tr>\n",
       "  </thead>\n",
       "  <tbody>\n",
       "    <tr>\n",
       "      <th>0</th>\n",
       "      <td>Monkey D Luffy</td>\n",
       "      <td>174.0</td>\n",
       "      <td>19</td>\n",
       "      <td>3.000000e+09</td>\n",
       "      <td>Captain</td>\n",
       "      <td>Mugiwara no Ichimi</td>\n",
       "      <td>Paramecia</td>\n",
       "      <td>Gomu Gomu no Mi</td>\n",
       "      <td>1</td>\n",
       "    </tr>\n",
       "    <tr>\n",
       "      <th>1</th>\n",
       "      <td>Roronoa Zoro</td>\n",
       "      <td>181.0</td>\n",
       "      <td>21</td>\n",
       "      <td>3.200000e+08</td>\n",
       "      <td>Right-hand man</td>\n",
       "      <td>Mugiwara no Ichimi</td>\n",
       "      <td>Don't have</td>\n",
       "      <td>Don't have</td>\n",
       "      <td>1</td>\n",
       "    </tr>\n",
       "    <tr>\n",
       "      <th>2</th>\n",
       "      <td>Nami</td>\n",
       "      <td>170.0</td>\n",
       "      <td>20</td>\n",
       "      <td>6.600000e+07</td>\n",
       "      <td>Navigator</td>\n",
       "      <td>Mugiwara no Ichimi</td>\n",
       "      <td>Don't have</td>\n",
       "      <td>Don't have</td>\n",
       "      <td>0</td>\n",
       "    </tr>\n",
       "    <tr>\n",
       "      <th>3</th>\n",
       "      <td>Usopp</td>\n",
       "      <td>176.0</td>\n",
       "      <td>19</td>\n",
       "      <td>2.000000e+08</td>\n",
       "      <td>Sniper</td>\n",
       "      <td>Mugiwara no Ichimi</td>\n",
       "      <td>Don't have</td>\n",
       "      <td>Don't have</td>\n",
       "      <td>1</td>\n",
       "    </tr>\n",
       "    <tr>\n",
       "      <th>4</th>\n",
       "      <td>Sanji</td>\n",
       "      <td>180.0</td>\n",
       "      <td>21</td>\n",
       "      <td>3.300000e+08</td>\n",
       "      <td>Cook</td>\n",
       "      <td>Mugiwara no Ichimi</td>\n",
       "      <td>Don't have</td>\n",
       "      <td>Don't have</td>\n",
       "      <td>0</td>\n",
       "    </tr>\n",
       "    <tr>\n",
       "      <th>...</th>\n",
       "      <td>...</td>\n",
       "      <td>...</td>\n",
       "      <td>...</td>\n",
       "      <td>...</td>\n",
       "      <td>...</td>\n",
       "      <td>...</td>\n",
       "      <td>...</td>\n",
       "      <td>...</td>\n",
       "      <td>...</td>\n",
       "    </tr>\n",
       "    <tr>\n",
       "      <th>689</th>\n",
       "      <td>Bartholomew Kuma</td>\n",
       "      <td>689.0</td>\n",
       "      <td>47</td>\n",
       "      <td>2.960000e+08</td>\n",
       "      <td>Lieutenant</td>\n",
       "      <td>Don't have</td>\n",
       "      <td>Paramecia</td>\n",
       "      <td>Nikyu Nikyu no Mi</td>\n",
       "      <td>0</td>\n",
       "    </tr>\n",
       "    <tr>\n",
       "      <th>690</th>\n",
       "      <td>César Clown</td>\n",
       "      <td>309.0</td>\n",
       "      <td>40</td>\n",
       "      <td>3.000000e+08</td>\n",
       "      <td>Don't have</td>\n",
       "      <td>Don't have</td>\n",
       "      <td>Logia</td>\n",
       "      <td>Gasu Gasu no Mi</td>\n",
       "      <td>1</td>\n",
       "    </tr>\n",
       "    <tr>\n",
       "      <th>691</th>\n",
       "      <td>Morgans</td>\n",
       "      <td>305.0</td>\n",
       "      <td>53</td>\n",
       "      <td>0.000000e+00</td>\n",
       "      <td>World Economic Journal (boss)</td>\n",
       "      <td>Don't have</td>\n",
       "      <td>Zoan</td>\n",
       "      <td>Tori Tori no Mi Moderu Arubatorosu</td>\n",
       "      <td>0</td>\n",
       "    </tr>\n",
       "    <tr>\n",
       "      <th>734</th>\n",
       "      <td>Zéphyr</td>\n",
       "      <td>348.0</td>\n",
       "      <td>72</td>\n",
       "      <td>0.000000e+00</td>\n",
       "      <td>Chef</td>\n",
       "      <td>Don't have</td>\n",
       "      <td>Don't have</td>\n",
       "      <td>Don't have</td>\n",
       "      <td>0</td>\n",
       "    </tr>\n",
       "    <tr>\n",
       "      <th>753</th>\n",
       "      <td>Orlombus</td>\n",
       "      <td>480.0</td>\n",
       "      <td>42</td>\n",
       "      <td>1.480000e+08</td>\n",
       "      <td>Admiral</td>\n",
       "      <td>Yonta Maria Dai-senda</td>\n",
       "      <td>Don't have</td>\n",
       "      <td>Don't have</td>\n",
       "      <td>0</td>\n",
       "    </tr>\n",
       "  </tbody>\n",
       "</table>\n",
       "<p>354 rows × 9 columns</p>\n",
       "</div>"
      ],
      "text/plain": [
       "                 name   size  age        bounty  \\\n",
       "0      Monkey D Luffy  174.0   19  3.000000e+09   \n",
       "1        Roronoa Zoro  181.0   21  3.200000e+08   \n",
       "2                Nami  170.0   20  6.600000e+07   \n",
       "3               Usopp  176.0   19  2.000000e+08   \n",
       "4               Sanji  180.0   21  3.300000e+08   \n",
       "..                ...    ...  ...           ...   \n",
       "689  Bartholomew Kuma  689.0   47  2.960000e+08   \n",
       "690       César Clown  309.0   40  3.000000e+08   \n",
       "691           Morgans  305.0   53  0.000000e+00   \n",
       "734            Zéphyr  348.0   72  0.000000e+00   \n",
       "753          Orlombus  480.0   42  1.480000e+08   \n",
       "\n",
       "                               job        crew.roman_name  fruit.type  \\\n",
       "0                          Captain     Mugiwara no Ichimi   Paramecia   \n",
       "1                   Right-hand man     Mugiwara no Ichimi  Don't have   \n",
       "2                        Navigator     Mugiwara no Ichimi  Don't have   \n",
       "3                           Sniper     Mugiwara no Ichimi  Don't have   \n",
       "4                             Cook     Mugiwara no Ichimi  Don't have   \n",
       "..                             ...                    ...         ...   \n",
       "689                     Lieutenant             Don't have   Paramecia   \n",
       "690                     Don't have             Don't have       Logia   \n",
       "691  World Economic Journal (boss)             Don't have        Zoan   \n",
       "734                           Chef             Don't have  Don't have   \n",
       "753                        Admiral  Yonta Maria Dai-senda  Don't have   \n",
       "\n",
       "                       fruit.roman_name  survive  \n",
       "0                       Gomu Gomu no Mi        1  \n",
       "1                            Don't have        1  \n",
       "2                            Don't have        0  \n",
       "3                            Don't have        1  \n",
       "4                            Don't have        0  \n",
       "..                                  ...      ...  \n",
       "689                   Nikyu Nikyu no Mi        0  \n",
       "690                     Gasu Gasu no Mi        1  \n",
       "691  Tori Tori no Mi Moderu Arubatorosu        0  \n",
       "734                          Don't have        0  \n",
       "753                          Don't have        0  \n",
       "\n",
       "[354 rows x 9 columns]"
      ]
     },
     "execution_count": 14,
     "metadata": {},
     "output_type": "execute_result"
    }
   ],
   "source": [
    "df"
   ]
  },
  {
   "cell_type": "markdown",
   "id": "796ee654",
   "metadata": {},
   "source": [
    "### 6. Salvando Base de dados em arquivo CSV"
   ]
  },
  {
   "cell_type": "code",
   "execution_count": 15,
   "id": "92e21262",
   "metadata": {},
   "outputs": [],
   "source": [
    "df.to_csv(\"one_piece_dataset.csv\")"
   ]
  },
  {
   "cell_type": "markdown",
   "id": "487069d6",
   "metadata": {},
   "source": [
    "## Treinando um modelo de Machine Learning"
   ]
  },
  {
   "cell_type": "code",
   "execution_count": 77,
   "id": "f65091f9",
   "metadata": {},
   "outputs": [],
   "source": [
    "import pandas as pd\n",
    "import numpy as np\n",
    "\n",
    "from sklearn.model_selection import train_test_split\n",
    "from sklearn.preprocessing import OrdinalEncoder, StandardScaler\n",
    "from sklearn.compose import ColumnTransformer\n",
    "from sklearn.pipeline import Pipeline\n",
    "from sklearn.impute import SimpleImputer\n",
    "from sklearn.linear_model import LogisticRegressionCV\n",
    "from sklearn.ensemble import RandomForestClassifier\n",
    "from sklearn.neighbors import KNeighborsClassifier\n",
    "from imblearn.over_sampling import SMOTE\n",
    "from sklearn.metrics import classification_report\n",
    "\n",
    "import joblib"
   ]
  },
  {
   "cell_type": "markdown",
   "id": "2454e3b2",
   "metadata": {},
   "source": [
    "### 1. Importando a Base de Dados"
   ]
  },
  {
   "cell_type": "code",
   "execution_count": 60,
   "id": "2a181632",
   "metadata": {},
   "outputs": [
    {
     "data": {
      "application/vnd.microsoft.datawrangler.viewer.v0+json": {
       "columns": [
        {
         "name": "index",
         "rawType": "int64",
         "type": "integer"
        },
        {
         "name": "Unnamed: 0",
         "rawType": "int64",
         "type": "integer"
        },
        {
         "name": "name",
         "rawType": "object",
         "type": "string"
        },
        {
         "name": "size",
         "rawType": "float64",
         "type": "float"
        },
        {
         "name": "age",
         "rawType": "int64",
         "type": "integer"
        },
        {
         "name": "bounty",
         "rawType": "float64",
         "type": "float"
        },
        {
         "name": "job",
         "rawType": "object",
         "type": "string"
        },
        {
         "name": "crew.roman_name",
         "rawType": "object",
         "type": "string"
        },
        {
         "name": "fruit.type",
         "rawType": "object",
         "type": "string"
        },
        {
         "name": "fruit.roman_name",
         "rawType": "object",
         "type": "string"
        },
        {
         "name": "survive",
         "rawType": "int64",
         "type": "integer"
        }
       ],
       "ref": "f4a27521-a3d2-4a32-a7d7-63feb7ffb732",
       "rows": [
        [
         "0",
         "0",
         "Monkey D Luffy",
         "174.0",
         "19",
         "3000000000.0",
         "Captain",
         "Mugiwara no Ichimi",
         "Paramecia",
         "Gomu Gomu no Mi",
         "1"
        ],
        [
         "1",
         "1",
         "Roronoa Zoro",
         "181.0",
         "21",
         "320000000.0",
         "Right-hand man",
         "Mugiwara no Ichimi",
         "Don't have",
         "Don't have",
         "1"
        ],
        [
         "2",
         "2",
         "Nami",
         "170.0",
         "20",
         "66000000.0",
         "Navigator",
         "Mugiwara no Ichimi",
         "Don't have",
         "Don't have",
         "0"
        ],
        [
         "3",
         "3",
         "Usopp",
         "176.0",
         "19",
         "200000000.0",
         "Sniper",
         "Mugiwara no Ichimi",
         "Don't have",
         "Don't have",
         "1"
        ],
        [
         "4",
         "4",
         "Sanji",
         "180.0",
         "21",
         "330000000.0",
         "Cook",
         "Mugiwara no Ichimi",
         "Don't have",
         "Don't have",
         "0"
        ],
        [
         "5",
         "5",
         "Tony-Tony Chopper",
         "90.0",
         "17",
         "100.0",
         "Doctor",
         "Mugiwara no Ichimi",
         "Zoan",
         "Hito Hito no Mi",
         "0"
        ],
        [
         "6",
         "6",
         "Nico Robin",
         "188.0",
         "30",
         "130000000.0",
         "Archaeologist",
         "Mugiwara no Ichimi",
         "Paramecia",
         "Hana Hana no Mi",
         "1"
        ],
        [
         "7",
         "7",
         "Franky",
         "240.0",
         "36",
         "94000000.0",
         "Carpenter",
         "Mugiwara no Ichimi",
         "Don't have",
         "Don't have",
         "0"
        ],
        [
         "8",
         "8",
         "Brook",
         "277.0",
         "90",
         "83000000.0",
         "Musician",
         "Mugiwara no Ichimi",
         "Paramecia",
         "Yomi Yomi no Mi",
         "0"
        ],
        [
         "9",
         "9",
         "Jinbe",
         "301.0",
         "46",
         "438000000.0",
         "Helmsman",
         "Mugiwara no Ichimi",
         "Don't have",
         "Don't have",
         "0"
        ],
        [
         "10",
         "11",
         "Cavendish",
         "208.0",
         "26",
         "330000000.0",
         "Captain",
         "Mugiwara Dai-sendan",
         "Don't have",
         "Don't have",
         "1"
        ],
        [
         "11",
         "12",
         "Suleiman",
         "240.0",
         "40",
         "670000000.0",
         "Fighter",
         "Mugiwara Dai-sendan",
         "Don't have",
         "Don't have",
         "1"
        ],
        [
         "12",
         "13",
         "Bartolomeo",
         "220.0",
         "24",
         "200000000.0",
         "Captain",
         "Mugiwara Dai-sendan",
         "Paramecia",
         "Bari Bari no Mi",
         "1"
        ],
        [
         "13",
         "15",
         "Sai",
         "242.0",
         "28",
         "210000000.0",
         "13th Chief Commander",
         "Mugiwara Dai-sendan",
         "Don't have",
         "Don't have",
         "0"
        ],
        [
         "14",
         "17",
         "Baby 5",
         "181.0",
         "24",
         "0.0",
         "Don't have",
         "Mugiwara Dai-sendan",
         "Paramecia",
         "Buki Buki no Mi",
         "0"
        ],
        [
         "15",
         "18",
         "Ideo",
         "225.0",
         "22",
         "0.0",
         "Captain",
         "Mugiwara Dai-sendan",
         "Don't have",
         "Don't have",
         "0"
        ],
        [
         "16",
         "19",
         "Blue Gilly",
         "314.0",
         "24",
         "0.0",
         "Don't have",
         "Mugiwara Dai-sendan",
         "Don't have",
         "Don't have",
         "0"
        ],
        [
         "17",
         "22",
         "Léo",
         "23.0",
         "25",
         "0.0",
         "Captain",
         "Mugiwara Dai-sendan",
         "Paramecia",
         "Nui Nui no Mi",
         "0"
        ],
        [
         "18",
         "25",
         "Hajrudin",
         "2200.0",
         "81",
         "0.0",
         "Captain",
         "Mugiwara Dai-sendan",
         "Don't have",
         "Don't have",
         "0"
        ],
        [
         "19",
         "30",
         "Orlumbus",
         "480.0",
         "42",
         "148000000.0",
         "Admiral",
         "Mugiwara Dai-sendan",
         "Don't have",
         "Don't have",
         "0"
        ],
        [
         "20",
         "31",
         "Baggy / Le Clown",
         "192.0",
         "39",
         "150000000.0",
         "Chairman",
         "Bagīzu Deribarī",
         "Paramecia",
         "Bara Bara no Mi",
         "1"
        ],
        [
         "21",
         "32",
         "Alvida",
         "198.0",
         "27",
         "5000000.0",
         "Don't have",
         "Bagīzu Deribarī",
         "Paramecia",
         "Sube Sube no Mi",
         "0"
        ],
        [
         "22",
         "33",
         "Galdino",
         "179.0",
         "37",
         "24000000.0",
         "Don't have",
         "Bagīzu Deribarī",
         "Paramecia",
         "Doru Doru no Mi",
         "0"
        ],
        [
         "23",
         "34",
         "Morge",
         "197.0",
         "29",
         "0.0",
         "Don't have",
         "Bagīzu Deribarī",
         "Don't have",
         "Don't have",
         "0"
        ],
        [
         "24",
         "35",
         "Cabaji",
         "208.0",
         "34",
         "0.0",
         "Don't have",
         "Bagīzu Deribarī",
         "Don't have",
         "Don't have",
         "0"
        ],
        [
         "25",
         "36",
         "Kuro",
         "207.0",
         "35",
         "16000000.0",
         "Captain",
         "Kuroneko Kaizoku Dan",
         "Don't have",
         "Don't have",
         "1"
        ],
        [
         "26",
         "37",
         "Sham",
         "201.0",
         "23",
         "7000000.0",
         "Officer",
         "Kuroneko Kaizoku Dan",
         "Don't have",
         "Don't have",
         "0"
        ],
        [
         "27",
         "38",
         "Buchi",
         "216.0",
         "23",
         "7000000.0",
         "Officer",
         "Kuroneko Kaizoku Dan",
         "Don't have",
         "Don't have",
         "0"
        ],
        [
         "28",
         "39",
         "Krieg / Don Krieg",
         "243.0",
         "44",
         "17000000.0",
         "Captain",
         "Kuriiku Kaizoku Kantai",
         "Don't have",
         "Don't have",
         "1"
        ],
        [
         "29",
         "40",
         "Gyn",
         "186.0",
         "27",
         "12000000.0",
         "Vice-Admiral",
         "Kuriiku Kaizoku Kantai",
         "Don't have",
         "Don't have",
         "0"
        ],
        [
         "30",
         "41",
         "Pearl",
         "239.0",
         "25",
         "0.0",
         "Captain (2nd Battalion)",
         "Kuriiku Kaizoku Kantai",
         "Don't have",
         "Don't have",
         "0"
        ],
        [
         "31",
         "42",
         "Montblanc Cricket",
         "242.0",
         "43",
         "25000000.0",
         "Commander-in-Chief",
         "Saruyama Rengō",
         "Don't have",
         "Don't have",
         "0"
        ],
        [
         "32",
         "43",
         "Masira",
         "345.0",
         "25",
         "23000000.0",
         "Don't have",
         "Saruyama Rengō",
         "Don't have",
         "Don't have",
         "0"
        ],
        [
         "33",
         "44",
         "Shojo",
         "351.0",
         "27",
         "36000000.0",
         "Don't have",
         "Saruyama Rengō",
         "Don't have",
         "Don't have",
         "0"
        ],
        [
         "34",
         "45",
         "Foxy",
         "180.0",
         "38",
         "24000000.0",
         "Captain",
         "Fokushī Kaizokudan",
         "Paramecia",
         "Noro Noro no Mi",
         "1"
        ],
        [
         "35",
         "48",
         "Gecko Moria",
         "692.0",
         "50",
         "320000000.0",
         "Captain",
         "Surirā Bāku",
         "Paramecia",
         "Kage Kage no Mi",
         "1"
        ],
        [
         "36",
         "49",
         "Hogback",
         "223.0",
         "47",
         "0.0",
         "Mysterious Four",
         "Surirā Bāku",
         "Don't have",
         "Don't have",
         "0"
        ],
        [
         "37",
         "50",
         "Absalom",
         "195.0",
         "36",
         "0.0",
         "Mysterious Four",
         "Surirā Bāku",
         "Paramecia",
         "Suke Suke no Mi",
         "0"
        ],
        [
         "38",
         "51",
         "Perona",
         "160.0",
         "25",
         "0.0",
         "Mysterious Four",
         "Surirā Bāku",
         "Paramecia",
         "Horo Horo no Mi",
         "0"
        ],
        [
         "39",
         "52",
         "Laura",
         "215.0",
         "26",
         "24000000.0",
         "Captain",
         "Rōringu Kaizokudan",
         "Don't have",
         "Don't have",
         "1"
        ],
        [
         "40",
         "53",
         "Trafalgar D. Water Law",
         "191.0",
         "26",
         "500000000.0",
         "Captain",
         "Hāto no Kaizokudan",
         "Paramecia",
         "Ope Ope no Mi",
         "1"
        ],
        [
         "41",
         "54",
         "Bepo",
         "240.0",
         "22",
         "500.0",
         "Browser",
         "Hāto no Kaizokudan",
         "Don't have",
         "Don't have",
         "0"
        ],
        [
         "42",
         "58",
         "Eustass Kidd",
         "205.0",
         "23",
         "470000000.0",
         "Captain",
         "Kiddo Kaizokudan",
         "Paramecia",
         "Jiki Jiki no Mi",
         "1"
        ],
        [
         "43",
         "59",
         "Killer",
         "195.0",
         "27",
         "200000000.0",
         "Fighter",
         "Kiddo Kaizokudan",
         "Don't have",
         "Don't have",
         "1"
        ],
        [
         "44",
         "62",
         "Capone Bege",
         "166.0",
         "42",
         "350000000.0",
         "Captain",
         "Faia Tanku Kaizokudan",
         "Paramecia",
         "Shiro Shiro no Mi",
         "1"
        ],
        [
         "45",
         "63",
         "Vito",
         "242.0",
         "36",
         "95000000.0",
         "Advisor",
         "Faia Tanku Kaizokudan",
         "Don't have",
         "Don't have",
         "0"
        ],
        [
         "46",
         "64",
         "Gotti",
         "375.0",
         "33",
         "90000000.0",
         "Assassin",
         "Faia Tanku Kaizokudan",
         "Don't have",
         "Don't have",
         "0"
        ],
        [
         "47",
         "65",
         "Charlotte Chiffon",
         "215.0",
         "26",
         "0.0",
         "Don't have",
         "Faia Tanku Kaizokudan",
         "Don't have",
         "Don't have",
         "0"
        ],
        [
         "48",
         "67",
         "Jewelry Bonney",
         "174.0",
         "24",
         "140000000.0",
         "Captain",
         "Faia Tanku Kaizokudan",
         "Don't have",
         "Don't have",
         "1"
        ],
        [
         "49",
         "68",
         "Urouge",
         "388.0",
         "47",
         "108000000.0",
         "Captain",
         "Hakaisō Kaizokudan",
         "Don't have",
         "Don't have",
         "1"
        ]
       ],
       "shape": {
        "columns": 10,
        "rows": 354
       }
      },
      "text/html": [
       "<div>\n",
       "<style scoped>\n",
       "    .dataframe tbody tr th:only-of-type {\n",
       "        vertical-align: middle;\n",
       "    }\n",
       "\n",
       "    .dataframe tbody tr th {\n",
       "        vertical-align: top;\n",
       "    }\n",
       "\n",
       "    .dataframe thead th {\n",
       "        text-align: right;\n",
       "    }\n",
       "</style>\n",
       "<table border=\"1\" class=\"dataframe\">\n",
       "  <thead>\n",
       "    <tr style=\"text-align: right;\">\n",
       "      <th></th>\n",
       "      <th>Unnamed: 0</th>\n",
       "      <th>name</th>\n",
       "      <th>size</th>\n",
       "      <th>age</th>\n",
       "      <th>bounty</th>\n",
       "      <th>job</th>\n",
       "      <th>crew.roman_name</th>\n",
       "      <th>fruit.type</th>\n",
       "      <th>fruit.roman_name</th>\n",
       "      <th>survive</th>\n",
       "    </tr>\n",
       "  </thead>\n",
       "  <tbody>\n",
       "    <tr>\n",
       "      <th>0</th>\n",
       "      <td>0</td>\n",
       "      <td>Monkey D Luffy</td>\n",
       "      <td>174.0</td>\n",
       "      <td>19</td>\n",
       "      <td>3.000000e+09</td>\n",
       "      <td>Captain</td>\n",
       "      <td>Mugiwara no Ichimi</td>\n",
       "      <td>Paramecia</td>\n",
       "      <td>Gomu Gomu no Mi</td>\n",
       "      <td>1</td>\n",
       "    </tr>\n",
       "    <tr>\n",
       "      <th>1</th>\n",
       "      <td>1</td>\n",
       "      <td>Roronoa Zoro</td>\n",
       "      <td>181.0</td>\n",
       "      <td>21</td>\n",
       "      <td>3.200000e+08</td>\n",
       "      <td>Right-hand man</td>\n",
       "      <td>Mugiwara no Ichimi</td>\n",
       "      <td>Don't have</td>\n",
       "      <td>Don't have</td>\n",
       "      <td>1</td>\n",
       "    </tr>\n",
       "    <tr>\n",
       "      <th>2</th>\n",
       "      <td>2</td>\n",
       "      <td>Nami</td>\n",
       "      <td>170.0</td>\n",
       "      <td>20</td>\n",
       "      <td>6.600000e+07</td>\n",
       "      <td>Navigator</td>\n",
       "      <td>Mugiwara no Ichimi</td>\n",
       "      <td>Don't have</td>\n",
       "      <td>Don't have</td>\n",
       "      <td>0</td>\n",
       "    </tr>\n",
       "    <tr>\n",
       "      <th>3</th>\n",
       "      <td>3</td>\n",
       "      <td>Usopp</td>\n",
       "      <td>176.0</td>\n",
       "      <td>19</td>\n",
       "      <td>2.000000e+08</td>\n",
       "      <td>Sniper</td>\n",
       "      <td>Mugiwara no Ichimi</td>\n",
       "      <td>Don't have</td>\n",
       "      <td>Don't have</td>\n",
       "      <td>1</td>\n",
       "    </tr>\n",
       "    <tr>\n",
       "      <th>4</th>\n",
       "      <td>4</td>\n",
       "      <td>Sanji</td>\n",
       "      <td>180.0</td>\n",
       "      <td>21</td>\n",
       "      <td>3.300000e+08</td>\n",
       "      <td>Cook</td>\n",
       "      <td>Mugiwara no Ichimi</td>\n",
       "      <td>Don't have</td>\n",
       "      <td>Don't have</td>\n",
       "      <td>0</td>\n",
       "    </tr>\n",
       "    <tr>\n",
       "      <th>...</th>\n",
       "      <td>...</td>\n",
       "      <td>...</td>\n",
       "      <td>...</td>\n",
       "      <td>...</td>\n",
       "      <td>...</td>\n",
       "      <td>...</td>\n",
       "      <td>...</td>\n",
       "      <td>...</td>\n",
       "      <td>...</td>\n",
       "      <td>...</td>\n",
       "    </tr>\n",
       "    <tr>\n",
       "      <th>349</th>\n",
       "      <td>689</td>\n",
       "      <td>Bartholomew Kuma</td>\n",
       "      <td>689.0</td>\n",
       "      <td>47</td>\n",
       "      <td>2.960000e+08</td>\n",
       "      <td>Lieutenant</td>\n",
       "      <td>Don't have</td>\n",
       "      <td>Paramecia</td>\n",
       "      <td>Nikyu Nikyu no Mi</td>\n",
       "      <td>0</td>\n",
       "    </tr>\n",
       "    <tr>\n",
       "      <th>350</th>\n",
       "      <td>690</td>\n",
       "      <td>César Clown</td>\n",
       "      <td>309.0</td>\n",
       "      <td>40</td>\n",
       "      <td>3.000000e+08</td>\n",
       "      <td>Don't have</td>\n",
       "      <td>Don't have</td>\n",
       "      <td>Logia</td>\n",
       "      <td>Gasu Gasu no Mi</td>\n",
       "      <td>1</td>\n",
       "    </tr>\n",
       "    <tr>\n",
       "      <th>351</th>\n",
       "      <td>691</td>\n",
       "      <td>Morgans</td>\n",
       "      <td>305.0</td>\n",
       "      <td>53</td>\n",
       "      <td>0.000000e+00</td>\n",
       "      <td>World Economic Journal (boss)</td>\n",
       "      <td>Don't have</td>\n",
       "      <td>Zoan</td>\n",
       "      <td>Tori Tori no Mi Moderu Arubatorosu</td>\n",
       "      <td>0</td>\n",
       "    </tr>\n",
       "    <tr>\n",
       "      <th>352</th>\n",
       "      <td>734</td>\n",
       "      <td>Zéphyr</td>\n",
       "      <td>348.0</td>\n",
       "      <td>72</td>\n",
       "      <td>0.000000e+00</td>\n",
       "      <td>Chef</td>\n",
       "      <td>Don't have</td>\n",
       "      <td>Don't have</td>\n",
       "      <td>Don't have</td>\n",
       "      <td>0</td>\n",
       "    </tr>\n",
       "    <tr>\n",
       "      <th>353</th>\n",
       "      <td>753</td>\n",
       "      <td>Orlombus</td>\n",
       "      <td>480.0</td>\n",
       "      <td>42</td>\n",
       "      <td>1.480000e+08</td>\n",
       "      <td>Admiral</td>\n",
       "      <td>Yonta Maria Dai-senda</td>\n",
       "      <td>Don't have</td>\n",
       "      <td>Don't have</td>\n",
       "      <td>0</td>\n",
       "    </tr>\n",
       "  </tbody>\n",
       "</table>\n",
       "<p>354 rows × 10 columns</p>\n",
       "</div>"
      ],
      "text/plain": [
       "     Unnamed: 0              name   size  age        bounty  \\\n",
       "0             0    Monkey D Luffy  174.0   19  3.000000e+09   \n",
       "1             1      Roronoa Zoro  181.0   21  3.200000e+08   \n",
       "2             2              Nami  170.0   20  6.600000e+07   \n",
       "3             3             Usopp  176.0   19  2.000000e+08   \n",
       "4             4             Sanji  180.0   21  3.300000e+08   \n",
       "..          ...               ...    ...  ...           ...   \n",
       "349         689  Bartholomew Kuma  689.0   47  2.960000e+08   \n",
       "350         690       César Clown  309.0   40  3.000000e+08   \n",
       "351         691           Morgans  305.0   53  0.000000e+00   \n",
       "352         734            Zéphyr  348.0   72  0.000000e+00   \n",
       "353         753          Orlombus  480.0   42  1.480000e+08   \n",
       "\n",
       "                               job        crew.roman_name  fruit.type  \\\n",
       "0                          Captain     Mugiwara no Ichimi   Paramecia   \n",
       "1                   Right-hand man     Mugiwara no Ichimi  Don't have   \n",
       "2                        Navigator     Mugiwara no Ichimi  Don't have   \n",
       "3                           Sniper     Mugiwara no Ichimi  Don't have   \n",
       "4                             Cook     Mugiwara no Ichimi  Don't have   \n",
       "..                             ...                    ...         ...   \n",
       "349                     Lieutenant             Don't have   Paramecia   \n",
       "350                     Don't have             Don't have       Logia   \n",
       "351  World Economic Journal (boss)             Don't have        Zoan   \n",
       "352                           Chef             Don't have  Don't have   \n",
       "353                        Admiral  Yonta Maria Dai-senda  Don't have   \n",
       "\n",
       "                       fruit.roman_name  survive  \n",
       "0                       Gomu Gomu no Mi        1  \n",
       "1                            Don't have        1  \n",
       "2                            Don't have        0  \n",
       "3                            Don't have        1  \n",
       "4                            Don't have        0  \n",
       "..                                  ...      ...  \n",
       "349                   Nikyu Nikyu no Mi        0  \n",
       "350                     Gasu Gasu no Mi        1  \n",
       "351  Tori Tori no Mi Moderu Arubatorosu        0  \n",
       "352                          Don't have        0  \n",
       "353                          Don't have        0  \n",
       "\n",
       "[354 rows x 10 columns]"
      ]
     },
     "execution_count": 60,
     "metadata": {},
     "output_type": "execute_result"
    }
   ],
   "source": [
    "df = pd.read_csv(\"one_piece_dataset.csv\")\n",
    "df"
   ]
  },
  {
   "cell_type": "markdown",
   "id": "1cfe753c",
   "metadata": {},
   "source": [
    "### 2. Análise de Dados"
   ]
  },
  {
   "cell_type": "code",
   "execution_count": 61,
   "id": "dd2bf656",
   "metadata": {},
   "outputs": [
    {
     "name": "stdout",
     "output_type": "stream",
     "text": [
      "<class 'pandas.core.frame.DataFrame'>\n",
      "RangeIndex: 354 entries, 0 to 353\n",
      "Data columns (total 10 columns):\n",
      " #   Column            Non-Null Count  Dtype  \n",
      "---  ------            --------------  -----  \n",
      " 0   Unnamed: 0        354 non-null    int64  \n",
      " 1   name              354 non-null    object \n",
      " 2   size              354 non-null    float64\n",
      " 3   age               354 non-null    int64  \n",
      " 4   bounty            354 non-null    float64\n",
      " 5   job               354 non-null    object \n",
      " 6   crew.roman_name   354 non-null    object \n",
      " 7   fruit.type        354 non-null    object \n",
      " 8   fruit.roman_name  354 non-null    object \n",
      " 9   survive           354 non-null    int64  \n",
      "dtypes: float64(2), int64(3), object(5)\n",
      "memory usage: 27.8+ KB\n"
     ]
    }
   ],
   "source": [
    "df.info()"
   ]
  },
  {
   "cell_type": "code",
   "execution_count": 6,
   "id": "952aa288",
   "metadata": {},
   "outputs": [
    {
     "data": {
      "application/vnd.microsoft.datawrangler.viewer.v0+json": {
       "columns": [
        {
         "name": "survive",
         "rawType": "int64",
         "type": "integer"
        },
        {
         "name": "count",
         "rawType": "int64",
         "type": "integer"
        }
       ],
       "ref": "bb1bfeb4-85c0-423f-adcd-0a1625976ae0",
       "rows": [
        [
         "0",
         "310"
        ],
        [
         "1",
         "44"
        ]
       ],
       "shape": {
        "columns": 1,
        "rows": 2
       }
      },
      "text/plain": [
       "survive\n",
       "0    310\n",
       "1     44\n",
       "Name: count, dtype: int64"
      ]
     },
     "execution_count": 6,
     "metadata": {},
     "output_type": "execute_result"
    }
   ],
   "source": [
    "df['survive'].value_counts()"
   ]
  },
  {
   "cell_type": "markdown",
   "id": "bc5279b0",
   "metadata": {},
   "source": [
    "### 3. Separando Base de dados entre treino e teste:"
   ]
  },
  {
   "cell_type": "code",
   "execution_count": 78,
   "id": "b8d7fb6e",
   "metadata": {},
   "outputs": [
    {
     "data": {
      "text/plain": [
       "(array([['Monkey D Luffy', 174.0, 19, ..., 'Mugiwara no Ichimi',\n",
       "         'Paramecia', 'Gomu Gomu no Mi'],\n",
       "        ['Roronoa Zoro', 181.0, 21, ..., 'Mugiwara no Ichimi',\n",
       "         \"Don't have\", \"Don't have\"],\n",
       "        ['Nami', 170.0, 20, ..., 'Mugiwara no Ichimi', \"Don't have\",\n",
       "         \"Don't have\"],\n",
       "        ...,\n",
       "        ['Morgans', 305.0, 53, ..., \"Don't have\", 'Zoan',\n",
       "         'Tori Tori no Mi Moderu Arubatorosu'],\n",
       "        ['Zéphyr', 348.0, 72, ..., \"Don't have\", \"Don't have\",\n",
       "         \"Don't have\"],\n",
       "        ['Orlombus', 480.0, 42, ..., 'Yonta Maria Dai-senda',\n",
       "         \"Don't have\", \"Don't have\"]], shape=(354, 8), dtype=object),\n",
       " array([1, 1, 0, 1, 0, 0, 1, 0, 0, 0, 1, 1, 1, 0, 0, 0, 0, 0, 0, 0, 1, 0,\n",
       "        0, 0, 0, 1, 0, 0, 1, 0, 0, 0, 0, 0, 1, 1, 0, 0, 0, 1, 1, 0, 1, 1,\n",
       "        1, 0, 0, 0, 1, 1, 1, 0, 0, 0, 1, 1, 1, 0, 0, 0, 0, 0, 0, 1, 0, 0,\n",
       "        0, 1, 0, 1, 0, 0, 0, 0, 0, 0, 0, 0, 1, 1, 0, 1, 0, 0, 0, 0, 0, 0,\n",
       "        0, 0, 0, 1, 0, 0, 1, 1, 0, 0, 0, 0, 0, 0, 0, 1, 0, 0, 0, 0, 0, 1,\n",
       "        1, 0, 0, 0, 0, 0, 1, 0, 0, 0, 0, 0, 0, 0, 0, 0, 0, 0, 0, 0, 1, 0,\n",
       "        0, 0, 0, 0, 0, 0, 0, 0, 0, 0, 0, 1, 0, 0, 0, 0, 0, 0, 0, 0, 0, 0,\n",
       "        0, 0, 0, 0, 0, 0, 0, 0, 1, 0, 0, 0, 0, 0, 0, 0, 0, 0, 0, 0, 0, 0,\n",
       "        0, 0, 0, 0, 0, 0, 0, 0, 0, 0, 0, 0, 0, 0, 0, 0, 0, 0, 0, 0, 0, 0,\n",
       "        0, 0, 0, 0, 0, 0, 0, 0, 0, 0, 0, 0, 0, 0, 0, 0, 0, 0, 0, 0, 0, 0,\n",
       "        0, 0, 0, 0, 0, 0, 0, 0, 0, 0, 0, 0, 0, 0, 0, 0, 0, 0, 0, 0, 0, 0,\n",
       "        0, 0, 0, 0, 0, 0, 0, 0, 0, 0, 0, 0, 0, 0, 0, 0, 0, 0, 0, 0, 0, 0,\n",
       "        0, 0, 0, 0, 0, 0, 0, 0, 0, 0, 0, 0, 0, 0, 0, 0, 0, 0, 0, 0, 0, 0,\n",
       "        0, 0, 0, 0, 0, 0, 0, 0, 0, 0, 0, 0, 0, 0, 0, 0, 0, 0, 0, 0, 0, 0,\n",
       "        0, 0, 0, 0, 0, 0, 0, 0, 0, 0, 0, 0, 0, 0, 0, 1, 0, 0, 1, 0, 0, 0,\n",
       "        0, 0, 0, 0, 0, 0, 1, 0, 0, 0, 0, 0, 0, 0, 0, 0, 0, 0, 1, 0, 1, 0,\n",
       "        0, 0]))"
      ]
     },
     "execution_count": 78,
     "metadata": {},
     "output_type": "execute_result"
    }
   ],
   "source": [
    "x_data = df.iloc[:, 1:9].values\n",
    "y_data = df.iloc[:, 9].values\n",
    "\n",
    "x_data, y_data"
   ]
  },
  {
   "cell_type": "markdown",
   "id": "eb1cafee",
   "metadata": {},
   "source": [
    "### 4. Aplicando Pré-processamento:"
   ]
  },
  {
   "cell_type": "code",
   "execution_count": 79,
   "id": "c60c3d80",
   "metadata": {},
   "outputs": [
    {
     "data": {
      "text/plain": [
       "([1, 2, 3], [0, 4, 5, 6, 7])"
      ]
     },
     "execution_count": 79,
     "metadata": {},
     "output_type": "execute_result"
    }
   ],
   "source": [
    "colunas_numericas = [index for index in range(x_data.shape[1]) if type(x_data[0][index]) == int or type(x_data[0][index]) == float]\n",
    "colunas_objetos = [index for index in range(x_data.shape[1]) if type(x_data[0][index]) ==  str or type(x_data[0][index]) == np.str_] \n",
    "\n",
    "colunas_numericas, colunas_objetos"
   ]
  },
  {
   "cell_type": "code",
   "execution_count": 80,
   "id": "c50b1dbf",
   "metadata": {},
   "outputs": [
    {
     "data": {
      "text/plain": [
       "array([[-1.61516527e-01, -6.04387747e-01,  4.61025994e+00, ...,\n",
       "         2.10000000e+01,  2.00000000e+00,  2.20000000e+01],\n",
       "       [-1.58904417e-01, -5.53159862e-01,  2.66104000e-01, ...,\n",
       "         2.10000000e+01,  0.00000000e+00,  1.50000000e+01],\n",
       "       [-1.63009161e-01, -5.78773805e-01, -1.45618242e-01, ...,\n",
       "         2.10000000e+01,  0.00000000e+00,  1.50000000e+01],\n",
       "       ...,\n",
       "       [-1.12632753e-01,  2.66486301e-01, -2.52601187e-01, ...,\n",
       "         5.00000000e+00,  4.00000000e+00,  9.60000000e+01],\n",
       "       [-9.65869337e-02,  7.53151210e-01, -2.52601187e-01, ...,\n",
       "         5.00000000e+00,  0.00000000e+00,  1.50000000e+01],\n",
       "       [-4.73300009e-02, -1.52670675e-02, -1.27000377e-02, ...,\n",
       "         3.10000000e+01,  0.00000000e+00,  1.50000000e+01]],\n",
       "      shape=(354, 8))"
      ]
     },
     "execution_count": 80,
     "metadata": {},
     "output_type": "execute_result"
    }
   ],
   "source": [
    "numeric_transformer = Pipeline(steps=[\n",
    "    (\"imputer\", SimpleImputer(strategy=\"median\")),\n",
    "    (\"scaler\", StandardScaler())\n",
    "])\n",
    "\n",
    "categorical_transformer = Pipeline(steps=[\n",
    "    (\"imputer\", SimpleImputer(strategy=\"most_frequent\")),\n",
    "    (\"encoder\", OrdinalEncoder())\n",
    "])\n",
    "\n",
    "preprocessor = ColumnTransformer(\n",
    "    transformers=[\n",
    "        (\"num\", numeric_transformer, colunas_numericas),\n",
    "        (\"cat\", categorical_transformer, colunas_objetos)\n",
    "    ],\n",
    "    remainder='passthrough'\n",
    ")\n",
    "\n",
    "x_data = preprocessor.fit_transform(x_data)\n",
    "x_data"
   ]
  },
  {
   "cell_type": "markdown",
   "id": "fde34272",
   "metadata": {},
   "source": [
    "### 5. Tratando desbalanceamento de classes:"
   ]
  },
  {
   "cell_type": "code",
   "execution_count": 81,
   "id": "6dee48a1",
   "metadata": {},
   "outputs": [
    {
     "data": {
      "text/plain": [
       "(array([[-1.61516527e-01, -6.04387747e-01,  4.61025994e+00, ...,\n",
       "          2.10000000e+01,  2.00000000e+00,  2.20000000e+01],\n",
       "        [-1.58904417e-01, -5.53159862e-01,  2.66104000e-01, ...,\n",
       "          2.10000000e+01,  0.00000000e+00,  1.50000000e+01],\n",
       "        [-1.63009161e-01, -5.78773805e-01, -1.45618242e-01, ...,\n",
       "          2.10000000e+01,  0.00000000e+00,  1.50000000e+01],\n",
       "        ...,\n",
       "        [-1.55677470e-01, -3.11528339e-01, -5.79018432e-02, ...,\n",
       "          2.08265626e+01,  1.82656259e+00,  2.50460942e+01],\n",
       "        [ 6.54619974e-04,  2.00662998e-01,  5.09590225e+00, ...,\n",
       "          1.29996254e+01,  4.85735691e+00,  9.27154630e+01],\n",
       "        [-1.54688103e-01, -4.09359576e-01,  5.90803643e-02, ...,\n",
       "          1.39710427e+01,  0.00000000e+00,  1.50000000e+01]],\n",
       "       shape=(620, 8)),\n",
       " array([1, 1, 0, 1, 0, 0, 1, 0, 0, 0, 1, 1, 1, 0, 0, 0, 0, 0, 0, 0, 1, 0,\n",
       "        0, 0, 0, 1, 0, 0, 1, 0, 0, 0, 0, 0, 1, 1, 0, 0, 0, 1, 1, 0, 1, 1,\n",
       "        1, 0, 0, 0, 1, 1, 1, 0, 0, 0, 1, 1, 1, 0, 0, 0, 0, 0, 0, 1, 0, 0,\n",
       "        0, 1, 0, 1, 0, 0, 0, 0, 0, 0, 0, 0, 1, 1, 0, 1, 0, 0, 0, 0, 0, 0,\n",
       "        0, 0, 0, 1, 0, 0, 1, 1, 0, 0, 0, 0, 0, 0, 0, 1, 0, 0, 0, 0, 0, 1,\n",
       "        1, 0, 0, 0, 0, 0, 1, 0, 0, 0, 0, 0, 0, 0, 0, 0, 0, 0, 0, 0, 1, 0,\n",
       "        0, 0, 0, 0, 0, 0, 0, 0, 0, 0, 0, 1, 0, 0, 0, 0, 0, 0, 0, 0, 0, 0,\n",
       "        0, 0, 0, 0, 0, 0, 0, 0, 1, 0, 0, 0, 0, 0, 0, 0, 0, 0, 0, 0, 0, 0,\n",
       "        0, 0, 0, 0, 0, 0, 0, 0, 0, 0, 0, 0, 0, 0, 0, 0, 0, 0, 0, 0, 0, 0,\n",
       "        0, 0, 0, 0, 0, 0, 0, 0, 0, 0, 0, 0, 0, 0, 0, 0, 0, 0, 0, 0, 0, 0,\n",
       "        0, 0, 0, 0, 0, 0, 0, 0, 0, 0, 0, 0, 0, 0, 0, 0, 0, 0, 0, 0, 0, 0,\n",
       "        0, 0, 0, 0, 0, 0, 0, 0, 0, 0, 0, 0, 0, 0, 0, 0, 0, 0, 0, 0, 0, 0,\n",
       "        0, 0, 0, 0, 0, 0, 0, 0, 0, 0, 0, 0, 0, 0, 0, 0, 0, 0, 0, 0, 0, 0,\n",
       "        0, 0, 0, 0, 0, 0, 0, 0, 0, 0, 0, 0, 0, 0, 0, 0, 0, 0, 0, 0, 0, 0,\n",
       "        0, 0, 0, 0, 0, 0, 0, 0, 0, 0, 0, 0, 0, 0, 0, 1, 0, 0, 1, 0, 0, 0,\n",
       "        0, 0, 0, 0, 0, 0, 1, 0, 0, 0, 0, 0, 0, 0, 0, 0, 0, 0, 1, 0, 1, 0,\n",
       "        0, 0, 1, 1, 1, 1, 1, 1, 1, 1, 1, 1, 1, 1, 1, 1, 1, 1, 1, 1, 1, 1,\n",
       "        1, 1, 1, 1, 1, 1, 1, 1, 1, 1, 1, 1, 1, 1, 1, 1, 1, 1, 1, 1, 1, 1,\n",
       "        1, 1, 1, 1, 1, 1, 1, 1, 1, 1, 1, 1, 1, 1, 1, 1, 1, 1, 1, 1, 1, 1,\n",
       "        1, 1, 1, 1, 1, 1, 1, 1, 1, 1, 1, 1, 1, 1, 1, 1, 1, 1, 1, 1, 1, 1,\n",
       "        1, 1, 1, 1, 1, 1, 1, 1, 1, 1, 1, 1, 1, 1, 1, 1, 1, 1, 1, 1, 1, 1,\n",
       "        1, 1, 1, 1, 1, 1, 1, 1, 1, 1, 1, 1, 1, 1, 1, 1, 1, 1, 1, 1, 1, 1,\n",
       "        1, 1, 1, 1, 1, 1, 1, 1, 1, 1, 1, 1, 1, 1, 1, 1, 1, 1, 1, 1, 1, 1,\n",
       "        1, 1, 1, 1, 1, 1, 1, 1, 1, 1, 1, 1, 1, 1, 1, 1, 1, 1, 1, 1, 1, 1,\n",
       "        1, 1, 1, 1, 1, 1, 1, 1, 1, 1, 1, 1, 1, 1, 1, 1, 1, 1, 1, 1, 1, 1,\n",
       "        1, 1, 1, 1, 1, 1, 1, 1, 1, 1, 1, 1, 1, 1, 1, 1, 1, 1, 1, 1, 1, 1,\n",
       "        1, 1, 1, 1, 1, 1, 1, 1, 1, 1, 1, 1, 1, 1, 1, 1, 1, 1, 1, 1, 1, 1,\n",
       "        1, 1, 1, 1, 1, 1, 1, 1, 1, 1, 1, 1, 1, 1, 1, 1, 1, 1, 1, 1, 1, 1,\n",
       "        1, 1, 1, 1]))"
      ]
     },
     "execution_count": 81,
     "metadata": {},
     "output_type": "execute_result"
    }
   ],
   "source": [
    "over_sampling = SMOTE(sampling_strategy=\"minority\")\n",
    "x_data, y_data = over_sampling.fit_resample(x_data, y_data)\n",
    "\n",
    "x_data, y_data "
   ]
  },
  {
   "cell_type": "markdown",
   "id": "5f2d8c0c",
   "metadata": {},
   "source": [
    "### 6. Separando as variáveis entre treino e teste:"
   ]
  },
  {
   "cell_type": "code",
   "execution_count": 82,
   "id": "93d02efa",
   "metadata": {},
   "outputs": [],
   "source": [
    "X_train, X_test, y_train, y_test = train_test_split(x_data, y_data, test_size=0.3, random_state=42)"
   ]
  },
  {
   "cell_type": "markdown",
   "id": "8717404c",
   "metadata": {},
   "source": [
    "### 7. Realizando o Treinamento e Validação"
   ]
  },
  {
   "cell_type": "markdown",
   "id": "f4aac926",
   "metadata": {},
   "source": [
    "#### 7.1 Regressão Logística"
   ]
  },
  {
   "cell_type": "code",
   "execution_count": 83,
   "id": "fd68c3ed",
   "metadata": {},
   "outputs": [],
   "source": [
    "modelLogistic = LogisticRegressionCV(solver=\"liblinear\")\n",
    "modelLogistic.fit(X_train, y_train)\n",
    "y_pred = modelLogistic.predict(X_test)"
   ]
  },
  {
   "cell_type": "code",
   "execution_count": 84,
   "id": "fb3d9146",
   "metadata": {},
   "outputs": [
    {
     "name": "stdout",
     "output_type": "stream",
     "text": [
      "              precision    recall  f1-score   support\n",
      "\n",
      "           0       0.87      0.84      0.85       104\n",
      "           1       0.80      0.84      0.82        82\n",
      "\n",
      "    accuracy                           0.84       186\n",
      "   macro avg       0.84      0.84      0.84       186\n",
      "weighted avg       0.84      0.84      0.84       186\n",
      "\n"
     ]
    }
   ],
   "source": [
    "print(classification_report(y_test, y_pred))"
   ]
  },
  {
   "cell_type": "markdown",
   "id": "26d34487",
   "metadata": {},
   "source": [
    "#### 7.2 Random Forest Classifier"
   ]
  },
  {
   "cell_type": "code",
   "execution_count": 85,
   "id": "f31ca779",
   "metadata": {},
   "outputs": [],
   "source": [
    "modelRFC = RandomForestClassifier()\n",
    "modelRFC.fit(X_train, y_train)\n",
    "y_pred = modelRFC.predict(X_test)"
   ]
  },
  {
   "cell_type": "code",
   "execution_count": 86,
   "id": "a4633165",
   "metadata": {},
   "outputs": [
    {
     "name": "stdout",
     "output_type": "stream",
     "text": [
      "              precision    recall  f1-score   support\n",
      "\n",
      "           0       0.98      0.93      0.96       104\n",
      "           1       0.92      0.98      0.95        82\n",
      "\n",
      "    accuracy                           0.95       186\n",
      "   macro avg       0.95      0.95      0.95       186\n",
      "weighted avg       0.95      0.95      0.95       186\n",
      "\n"
     ]
    }
   ],
   "source": [
    "print(classification_report(y_test, y_pred))"
   ]
  },
  {
   "cell_type": "markdown",
   "id": "78a842f5",
   "metadata": {},
   "source": [
    "#### 7.3 KNN"
   ]
  },
  {
   "cell_type": "code",
   "execution_count": 87,
   "id": "1d8d1838",
   "metadata": {},
   "outputs": [],
   "source": [
    "modelknn = KNeighborsClassifier()\n",
    "modelknn.fit(X_train, y_train)\n",
    "y_pred = modelknn.predict(X_test)"
   ]
  },
  {
   "cell_type": "code",
   "execution_count": 88,
   "id": "12371681",
   "metadata": {},
   "outputs": [
    {
     "name": "stdout",
     "output_type": "stream",
     "text": [
      "              precision    recall  f1-score   support\n",
      "\n",
      "           0       0.86      0.86      0.86       104\n",
      "           1       0.82      0.82      0.82        82\n",
      "\n",
      "    accuracy                           0.84       186\n",
      "   macro avg       0.84      0.84      0.84       186\n",
      "weighted avg       0.84      0.84      0.84       186\n",
      "\n"
     ]
    }
   ],
   "source": [
    "print(classification_report(y_test, y_pred))"
   ]
  },
  {
   "cell_type": "markdown",
   "id": "fc80f542",
   "metadata": {},
   "source": [
    "### 8. Teste como se fosse em uma aplicação:"
   ]
  },
  {
   "cell_type": "code",
   "execution_count": 98,
   "id": "b23f8965",
   "metadata": {},
   "outputs": [],
   "source": [
    "registro = np.array([[\"Bartholomew Kuma\",689.0,47,296000000.0,\"Lieutenant\",\"Don't have\",\"Paramecia\",\"Nikyu Nikyu no Mi\"]])"
   ]
  },
  {
   "cell_type": "code",
   "execution_count": 93,
   "id": "8d9794d6",
   "metadata": {},
   "outputs": [],
   "source": [
    "registro = preprocessor.transform(registro)"
   ]
  },
  {
   "cell_type": "code",
   "execution_count": 94,
   "id": "e17d2524",
   "metadata": {},
   "outputs": [
    {
     "data": {
      "text/plain": [
       "array([0])"
      ]
     },
     "execution_count": 94,
     "metadata": {},
     "output_type": "execute_result"
    }
   ],
   "source": [
    "predict = modelRFC.predict(registro)\n",
    "\n",
    "predict"
   ]
  },
  {
   "cell_type": "markdown",
   "id": "9835e2a6",
   "metadata": {},
   "source": [
    "### 9. Importando um modelo:"
   ]
  },
  {
   "cell_type": "code",
   "execution_count": 95,
   "id": "3b331c1d",
   "metadata": {},
   "outputs": [],
   "source": [
    "pipeline_predict = Pipeline(steps=[\n",
    "                                ('preprocessor', preprocessor), \n",
    "                                ('modelRFC', modelRFC)\n",
    "                            ])"
   ]
  },
  {
   "cell_type": "code",
   "execution_count": 101,
   "id": "dbe896b1",
   "metadata": {},
   "outputs": [
    {
     "data": {
      "text/plain": [
       "['onepiece_survival_model.pkl']"
      ]
     },
     "execution_count": 101,
     "metadata": {},
     "output_type": "execute_result"
    }
   ],
   "source": [
    "joblib.dump(pipeline_predict, \"onepiece_survival_model.pkl\")"
   ]
  }
 ],
 "metadata": {
  "kernelspec": {
   "display_name": "venv (3.12.7)",
   "language": "python",
   "name": "python3"
  },
  "language_info": {
   "codemirror_mode": {
    "name": "ipython",
    "version": 3
   },
   "file_extension": ".py",
   "mimetype": "text/x-python",
   "name": "python",
   "nbconvert_exporter": "python",
   "pygments_lexer": "ipython3",
   "version": "3.12.7"
  }
 },
 "nbformat": 4,
 "nbformat_minor": 5
}
